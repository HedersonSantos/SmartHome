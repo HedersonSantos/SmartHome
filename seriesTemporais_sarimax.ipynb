{
  "nbformat": 4,
  "nbformat_minor": 0,
  "metadata": {
    "colab": {
      "name": "seriesTemporais.ipynb",
      "provenance": [],
      "include_colab_link": true
    },
    "kernelspec": {
      "name": "python3",
      "display_name": "Python 3"
    },
    "language_info": {
      "name": "python"
    }
  },
  "cells": [
    {
      "cell_type": "markdown",
      "metadata": {
        "id": "view-in-github",
        "colab_type": "text"
      },
      "source": [
        "<a href=\"https://colab.research.google.com/github/HedersonSantos/SmartHome/blob/main/seriesTemporais_sarimax.ipynb\" target=\"_parent\"><img src=\"https://colab.research.google.com/assets/colab-badge.svg\" alt=\"Open In Colab\"/></a>"
      ]
    },
    {
      "cell_type": "code",
      "source": [
        "!pip install pmdarima"
      ],
      "metadata": {
        "colab": {
          "base_uri": "https://localhost:8080/"
        },
        "id": "xwdvs1KvVDQx",
        "outputId": "8075a888-e967-4242-8b5a-08eba635c1fb"
      },
      "execution_count": 1,
      "outputs": [
        {
          "output_type": "stream",
          "name": "stdout",
          "text": [
            "Collecting pmdarima\n",
            "  Downloading pmdarima-1.8.5-cp37-cp37m-manylinux_2_17_x86_64.manylinux2014_x86_64.manylinux_2_24_x86_64.whl (1.4 MB)\n",
            "\u001b[K     |████████████████████████████████| 1.4 MB 4.4 MB/s \n",
            "\u001b[?25hRequirement already satisfied: joblib>=0.11 in /usr/local/lib/python3.7/dist-packages (from pmdarima) (1.1.0)\n",
            "Collecting statsmodels!=0.12.0,>=0.11\n",
            "  Downloading statsmodels-0.13.2-cp37-cp37m-manylinux_2_17_x86_64.manylinux2014_x86_64.whl (9.8 MB)\n",
            "\u001b[K     |████████████████████████████████| 9.8 MB 39.9 MB/s \n",
            "\u001b[?25hRequirement already satisfied: urllib3 in /usr/local/lib/python3.7/dist-packages (from pmdarima) (1.24.3)\n",
            "Requirement already satisfied: numpy>=1.19.3 in /usr/local/lib/python3.7/dist-packages (from pmdarima) (1.21.6)\n",
            "Requirement already satisfied: Cython!=0.29.18,>=0.29 in /usr/local/lib/python3.7/dist-packages (from pmdarima) (0.29.30)\n",
            "Requirement already satisfied: scikit-learn>=0.22 in /usr/local/lib/python3.7/dist-packages (from pmdarima) (1.0.2)\n",
            "Requirement already satisfied: setuptools!=50.0.0,>=38.6.0 in /usr/local/lib/python3.7/dist-packages (from pmdarima) (57.4.0)\n",
            "Requirement already satisfied: pandas>=0.19 in /usr/local/lib/python3.7/dist-packages (from pmdarima) (1.3.5)\n",
            "Requirement already satisfied: scipy>=1.3.2 in /usr/local/lib/python3.7/dist-packages (from pmdarima) (1.4.1)\n",
            "Requirement already satisfied: pytz>=2017.3 in /usr/local/lib/python3.7/dist-packages (from pandas>=0.19->pmdarima) (2022.1)\n",
            "Requirement already satisfied: python-dateutil>=2.7.3 in /usr/local/lib/python3.7/dist-packages (from pandas>=0.19->pmdarima) (2.8.2)\n",
            "Requirement already satisfied: six>=1.5 in /usr/local/lib/python3.7/dist-packages (from python-dateutil>=2.7.3->pandas>=0.19->pmdarima) (1.15.0)\n",
            "Requirement already satisfied: threadpoolctl>=2.0.0 in /usr/local/lib/python3.7/dist-packages (from scikit-learn>=0.22->pmdarima) (3.1.0)\n",
            "Requirement already satisfied: packaging>=21.3 in /usr/local/lib/python3.7/dist-packages (from statsmodels!=0.12.0,>=0.11->pmdarima) (21.3)\n",
            "Requirement already satisfied: patsy>=0.5.2 in /usr/local/lib/python3.7/dist-packages (from statsmodels!=0.12.0,>=0.11->pmdarima) (0.5.2)\n",
            "Requirement already satisfied: pyparsing!=3.0.5,>=2.0.2 in /usr/local/lib/python3.7/dist-packages (from packaging>=21.3->statsmodels!=0.12.0,>=0.11->pmdarima) (3.0.9)\n",
            "Installing collected packages: statsmodels, pmdarima\n",
            "  Attempting uninstall: statsmodels\n",
            "    Found existing installation: statsmodels 0.10.2\n",
            "    Uninstalling statsmodels-0.10.2:\n",
            "      Successfully uninstalled statsmodels-0.10.2\n",
            "Successfully installed pmdarima-1.8.5 statsmodels-0.13.2\n"
          ]
        }
      ]
    },
    {
      "cell_type": "code",
      "execution_count": null,
      "metadata": {
        "id": "8fyvFjnLUkWn"
      },
      "outputs": [],
      "source": [
        "import pandas as pd\n",
        "import numpy as np\n",
        "import matplotlib.pyplot as plt\n",
        "%matplotlib inline\n",
        "import seaborn as sns\n",
        "from datetime import datetime\n",
        "pd.set_option('display.max_columns', None)\n",
        "pd.set_option('display.max_rows', None)\n",
        "pd.set_option('max_colwidth', None)\n",
        "\n",
        "\n",
        "from statsmodels.tsa.stattools import acovf, acf, pacf, pacf_yw, pacf_ols\n",
        "from statsmodels.graphics.tsaplots import plot_acf, plot_pacf # para determinar (p,q)\n",
        "from statsmodels.tsa.seasonal import seasonal_decompose\n",
        "from statsmodels.tsa.statespace.tools import diff\n",
        "from statsmodels.tsa.stattools import adfuller\n",
        "\n",
        "from statsmodels.tsa.holtwinters import ExponentialSmoothing\n",
        "from statsmodels.tsa.arima_model import ARIMA\n",
        "from statsmodels.tsa.statespace.sarimax import SARIMAX\n",
        "from statsmodels.tsa.forecasting.theta import ThetaModel\n",
        "\n",
        "from pmdarima.arima.utils import ndiffs\n",
        "from pmdarima import auto_arima\n",
        "\n",
        "\n",
        "from tensorflow.keras.preprocessing.sequence import TimeseriesGenerator\n",
        "from tensorflow.keras.models import Sequential\n",
        "from tensorflow.keras.layers import Dense\n",
        "from tensorflow.keras.layers import LSTM\n",
        "\n",
        "from sklearn.metrics import mean_squared_error,mean_absolute_error\n",
        "from sklearn.preprocessing import MinMaxScaler\n"
      ]
    },
    {
      "cell_type": "code",
      "source": [
        "!wget https://raw.githubusercontent.com/HedersonSantos/SmartHome/main/train.csv\n",
        "!wget https://raw.githubusercontent.com/HedersonSantos/SmartHome/main/test.csv\n",
        "!wget https://raw.githubusercontent.com/HedersonSantos/SmartHome/main/sample_submission.csv"
      ],
      "metadata": {
        "id": "CQI_GS3AU-pi"
      },
      "execution_count": null,
      "outputs": []
    },
    {
      "cell_type": "code",
      "source": [
        "!head test.csv"
      ],
      "metadata": {
        "id": "sgwEsZV5YvUj"
      },
      "execution_count": null,
      "outputs": []
    },
    {
      "cell_type": "code",
      "source": [
        "df_treino = pd.read_csv('train.csv')\n",
        "df_treino['data_hora'] = df_treino.loc[:,['Date', 'Time']].apply(lambda x: datetime.strptime(x['Date'] + ' ' + x['Time'], '%d/%m/%Y %H:%M'), axis=1)\n",
        "df_treino = df_treino.sort_values(by='data_hora')\n",
        "df_treino = df_treino.set_index('data_hora')\n",
        "idx = pd.date_range(start=df_treino.index.min(), end=df_treino.index.max(),  freq='0h15min')\n",
        "df_treino= df_treino.reindex(idx)\n",
        "df_treino.fillna(method='ffill', inplace=True)"
      ],
      "metadata": {
        "id": "aMdQ7GMtWr8U"
      },
      "execution_count": null,
      "outputs": []
    },
    {
      "cell_type": "code",
      "source": [
        "min(df_treino.index), max(df_treino.index)"
      ],
      "metadata": {
        "id": "jcxBAk-Wa1gh"
      },
      "execution_count": null,
      "outputs": []
    },
    {
      "cell_type": "code",
      "source": [
        "df_treino.info()"
      ],
      "metadata": {
        "id": "nQDu2723dcYj"
      },
      "execution_count": null,
      "outputs": []
    },
    {
      "cell_type": "code",
      "source": [
        "df_treino.groupby('Date')['Id'].count().reset_index().sort_values('Date')"
      ],
      "metadata": {
        "id": "v9KXFG7Nlx7t"
      },
      "execution_count": null,
      "outputs": []
    },
    {
      "cell_type": "code",
      "source": [
        "df_treino = df_treino[df_treino['Date']!=\"13/03/2012\"]\n",
        "df_treino = df_treino[df_treino['Date']!=\"11/04/2012\"]"
      ],
      "metadata": {
        "id": "YSzSHpdOl7Ha"
      },
      "execution_count": null,
      "outputs": []
    },
    {
      "cell_type": "code",
      "source": [
        "df_treino.head(3)"
      ],
      "metadata": {
        "id": "8n_1Ed3EnUJE"
      },
      "execution_count": null,
      "outputs": []
    },
    {
      "cell_type": "code",
      "source": [
        "df_treino[['Indoor_temperature_room']].plot(figsize=(18,6), title='Indoor Temperatura Room')"
      ],
      "metadata": {
        "id": "8iVd536CaUHT"
      },
      "execution_count": null,
      "outputs": []
    },
    {
      "cell_type": "code",
      "source": [
        "df_treino[['CO2_room']].plot(figsize=(12,6), title='CO2 Room')"
      ],
      "metadata": {
        "id": "RmWhbCMIbB6g"
      },
      "execution_count": null,
      "outputs": []
    },
    {
      "cell_type": "code",
      "source": [
        "df_treino[['Relative_humidity_room']].plot(figsize=(12,6), title='Relative humidity Room')"
      ],
      "metadata": {
        "id": "Ri3MXnyMbNvZ"
      },
      "execution_count": null,
      "outputs": []
    },
    {
      "cell_type": "code",
      "source": [
        "fig, ax = plt.subplots(figsize=(18,8))\n",
        "sns.boxplot(df_treino['Date'],df_treino['Indoor_temperature_room'], ax=ax)"
      ],
      "metadata": {
        "id": "jmg4UIeFcLO7"
      },
      "execution_count": null,
      "outputs": []
    },
    {
      "cell_type": "code",
      "source": [
        "#Teste de Dickey-Fuller para confirmar a (não) estacionariedade\n",
        "result = adfuller(df_treino['Indoor_temperature_room'], autolag='AIC')\n",
        "print('ADF Statistic: %f' % result[0])\n",
        "print('p-value: %f' % result[1])\n",
        "print('Critical Values:')\n",
        "for key, value in result[4].items():\n",
        "  print('\\t%s: %.3f' % (key, value))"
      ],
      "metadata": {
        "id": "hu5TUPRMdbVB"
      },
      "execution_count": null,
      "outputs": []
    },
    {
      "cell_type": "markdown",
      "source": [
        "O teste Dickey-Fuller mostrou que a série é estacionária, pois p-value < 0.05. \n",
        "Este teste tem H0 como: a série é não estacionária e contém uma raiz unitária. E H1 como: a série é estacionária ou tendência estacionária. Quando o p-value é pequeno, p < 0.05, rejeita-se H0 e portanto há evidências de que a série é estacionária ou tendência-estacionária. Caso p>=0.05, não se rejeita H0 e a série não é estacionária e contém uma raiz unitária.\n",
        "Contudo observamos nos gráficos de linha e de boxplot por dia que a media, variância e autocovariância não são fixas. "
      ],
      "metadata": {
        "id": "WU1l_gFwfQaa"
      }
    },
    {
      "cell_type": "code",
      "source": [
        "dftmp = df_treino[(df_treino['Date'] >= '14/03/2012') & (df_treino['Date'] <= '15/03/2012')]\n",
        "dftmp[['Indoor_temperature_room']].plot(figsize=(18,6), title='Indoor Temperatura Room')\n",
        "\n"
      ],
      "metadata": {
        "id": "4BgWVqSPhPBC"
      },
      "execution_count": null,
      "outputs": []
    },
    {
      "cell_type": "code",
      "source": [
        "#Decomposição da Indoor_temperature_room em tendência e sazonalidade.\n",
        "result = seasonal_decompose(df_treino['Indoor_temperature_room'], model='multiplicative', period=96 )\n",
        "fig = result.plot()\n",
        "fig.set_size_inches((16, 9))\n",
        "fig.tight_layout()\n",
        "plt.show()"
      ],
      "metadata": {
        "id": "U0rDbkp-fOvi"
      },
      "execution_count": null,
      "outputs": []
    },
    {
      "cell_type": "code",
      "source": [
        "\n",
        "result = seasonal_decompose(df_treino[df_treino.index < '17-03-2012 00:00:00']['Indoor_temperature_room'], model='multiplicative', period=96 )\n",
        "fig = result.plot()\n",
        "fig.set_size_inches((16, 9))\n",
        "fig.tight_layout()\n",
        "plt.show()"
      ],
      "metadata": {
        "id": "jQzsku-GbLl9"
      },
      "execution_count": null,
      "outputs": []
    },
    {
      "cell_type": "code",
      "source": [
        "fig, axes = plt.subplots(nrows=1, ncols=2, sharex=False, sharey=False, figsize=(20, 5))\n",
        "title = 'Indoor temperature room'\n",
        "lags = 40\n",
        "for ax in axes:\n",
        "  # define os limites de -1 e 1 para o eixo y com folga de 0.1\n",
        "  ax.set_ylim(bottom=-1.1, top=1.1)\n",
        "  # plota linha constante horizontal no eixo y em 0.5 para referencia \n",
        "  ax.axhline(y=0.5, xmin=0, xmax=lags, linewidth=1, color='gray', ls=\"--\")\n",
        "  ax.axhline(y=-0.5, xmin=0, xmax=lags, linewidth=1, color='gray', ls=\"--\")\n",
        "\n",
        "  plot_acf(df_treino['Indoor_temperature_room'], lags=lags, title=f\"{title} (ACF)\", ax=axes[0])\n",
        "  plot_pacf(df_treino['Indoor_temperature_room'], lags=lags, title=f\"{title} (PACF)\", ax=axes[1])\n",
        "  plt.show()\n"
      ],
      "metadata": {
        "id": "bdaCN1KekVnC"
      },
      "execution_count": null,
      "outputs": []
    },
    {
      "cell_type": "markdown",
      "source": [
        "**DECOMPOSIÇÃO:**<br>\n",
        "\n",
        "  * A componente de tendência indica que a série é não estacionaria\n",
        "  * A componente de sazonaliade indica uma sazonalidade a cada 96 séries, isto é, 1 dia, pois há repetição de padrão a cada dia (96 medições de temperatura). Isto fica claro quando mostramos uma decomposição de somente 3 dias.\n",
        "  * Os resíduos estão distribuídos aleatoriamente em torno do eixo 1, sendo que há uma mudança na dispersão próximo ao dia 21-03 e nos primeiros cinco dias de abril, significando que o padrão mudou neste período.\n",
        "\n",
        "**ACF e PACF**<br>\n",
        "  Podemos observar no gráfico de AutoCorrelação (ACF) um padrão de decaimento exponencial e infinita em extensão na função de autocorrelação, o que é indício de evidências para uma componente auto regressão.  Em PACF também observamos indícios de auto regressão, pois há uma correlação significativa na primeira lag, seguidas por uma queda na segunda lag e sequências de auto correlações não significativas."
      ],
      "metadata": {
        "id": "RtNZXOyJeBQ9"
      }
    },
    {
      "cell_type": "code",
      "source": [
        "#carregando teste\n",
        "df_teste = pd.read_csv('test.csv')\n",
        "df_teste['data_hora'] = df_teste.loc[:,['Date', 'Time']].apply(lambda x: datetime.strptime(x['Date'] + ' ' + x['Time'], '%d/%m/%Y %H:%M'), axis=1)\n",
        "df_teste = df_teste.sort_values(by='data_hora')\n",
        "df_teste = df_teste.set_index('data_hora')\n",
        "idx = pd.date_range(start=df_teste.index.min(), end=df_teste.index.max(),  freq='0h15min')\n",
        "df_teste= df_teste.reindex(idx)\n",
        "df_teste.fillna(method='ffill', inplace=True)"
      ],
      "metadata": {
        "id": "YW5Y9r30hPd3"
      },
      "execution_count": null,
      "outputs": []
    },
    {
      "cell_type": "code",
      "source": [
        "df_treino[['Indoor_temperature_room']].plot(figsize=(18,6), title='Indoor Temperatura Room')"
      ],
      "metadata": {
        "id": "jL-vwJUuiRjQ"
      },
      "execution_count": null,
      "outputs": []
    },
    {
      "cell_type": "code",
      "source": [
        "#dividindo a amostra em treino e teste\n",
        "dfTreino = df_treino[df_treino.index < datetime(2012,4,8,0,0)]\n",
        "dfTeste = df_treino[df_treino.index >= datetime(2012,4,8,0,0)]\n",
        "print(dfTreino.shape, dfTeste.shape)\n",
        "print(min(dfTreino.index), max(dfTreino.index))\n",
        "print(min(dfTeste.index), max(dfTeste.index))"
      ],
      "metadata": {
        "id": "kLwTl-Q8ikyv"
      },
      "execution_count": null,
      "outputs": []
    },
    {
      "cell_type": "code",
      "source": [
        "def plotaSeries(treino, teste, predito):\n",
        "  if type(treino) == pd.core.series.Series:\n",
        "    treino.plot(legend=True,label='Treino')\n",
        "  if type(teste) == pd.core.series.Series:\n",
        "    teste.plot(legend=True,label='Teste',figsize=(16,8))\n",
        "  if  type(predito)==pd.core.series.Series:\n",
        "    predito.plot(legend=True) \n",
        "  else:\n",
        "    for p in predito.columns:\n",
        "      predito[p].plot(legend=True)\n"
      ],
      "metadata": {
        "id": "PuCU6r9_i313"
      },
      "execution_count": null,
      "outputs": []
    },
    {
      "cell_type": "code",
      "source": [
        "#Holt Winters\n",
        "# Ajuste do modelo pelo Método de Holt-Winters com sazonalidade multiplicativa\n",
        "modelo = ExponentialSmoothing(dfTreino['Indoor_temperature_room'],trend='add',seasonal='add',seasonal_periods=7);\n",
        "ajustado_hw = modelo.fit();"
      ],
      "metadata": {
        "id": "BDmo8mEEjjQd"
      },
      "execution_count": null,
      "outputs": []
    },
    {
      "cell_type": "code",
      "source": [
        "#Testa HW\n",
        "dfTeste['HW'] = ajustado_hw.forecast(dfTeste.shape[0])\n",
        "dfTeste[['Indoor_temperature_room','HW']].head(10)"
      ],
      "metadata": {
        "id": "OroMzX-4j0nt"
      },
      "execution_count": null,
      "outputs": []
    },
    {
      "cell_type": "code",
      "source": [
        "plotaSeries(None, dfTeste['Indoor_temperature_room'], dfTeste['HW'])"
      ],
      "metadata": {
        "colab": {
          "base_uri": "https://localhost:8080/",
          "height": 506
        },
        "id": "ReJjKHajnrkx",
        "outputId": "23baa2b4-1ae5-44ea-c4d0-01fd0d9de1db"
      },
      "execution_count": null,
      "outputs": [
        {
          "output_type": "display_data",
          "data": {
            "text/plain": [
              "<Figure size 1152x576 with 1 Axes>"
            ],
            "image/png": "[encoded data removed]"
          },
          "metadata": {
            "needs_background": "light"
          }
        }
      ]
    },
    {
      "cell_type": "code",
      "source": [
        "#sarima\n",
        "#Simular os melhores valores para os coeficientes (p,d,q)X(P,D,Q)M\n",
        "stepwise_fit = auto_arima(dfTreino['Indoor_temperature_room'], start_p=3, start_q=3,\n",
        "                          max_p=3, max_q=3, m=96,\n",
        "                          seasonal=True,\n",
        "                          trace=True,\n",
        "                          error_action='ignore', # we don't want to know if an order does not work\n",
        "                          suppress_warnings=True, # we don't want convergence warnings\n",
        "                          stepwise=True) # set to stepwise\n",
        "stepwise_fit.summary()"
      ],
      "metadata": {
        "colab": {
          "base_uri": "https://localhost:8080/"
        },
        "id": "gzfgXy6HoFF3",
        "outputId": "31822cf1-b64d-4c77-bd60-563997cf1a70"
      },
      "execution_count": null,
      "outputs": [
        {
          "output_type": "stream",
          "name": "stdout",
          "text": [
            "Performing stepwise search to minimize aic\n",
            " ARIMA(3,1,3)(1,0,1)[96] intercept   : AIC=inf, Time=308.80 sec\n",
            " ARIMA(0,1,0)(0,0,0)[96] intercept   : AIC=-2575.225, Time=0.31 sec\n",
            " ARIMA(1,1,0)(1,0,0)[96] intercept   : AIC=-7503.458, Time=167.89 sec\n",
            " ARIMA(0,1,1)(0,0,1)[96] intercept   : AIC=inf, Time=103.83 sec\n",
            " ARIMA(0,1,0)(0,0,0)[96]             : AIC=-2577.165, Time=0.14 sec\n",
            " ARIMA(1,1,0)(0,0,0)[96] intercept   : AIC=-7492.449, Time=0.17 sec\n"
          ]
        }
      ]
    },
    {
      "cell_type": "code",
      "source": [
        "# ajustando o melhor modelo indicado pelo stepwise e gerando o sumário.\n",
        "modelo = SARIMAX(dfTreino['Indoor_temperature_room'],order=(0,1,0),seasonal_order=(0,0,0,96))\n",
        "ajustado_sarimax = modelo.fit()\n",
        "ajustado_sarimax.summary()"
      ],
      "metadata": {
        "colab": {
          "base_uri": "https://localhost:8080/",
          "height": 373
        },
        "id": "dvC11CzAou6v",
        "outputId": "9dc8a2c5-792d-4177-db51-4eec83a8a9a3"
      },
      "execution_count": null,
      "outputs": [
        {
          "output_type": "execute_result",
          "data": {
            "text/plain": [
              "<class 'statsmodels.iolib.summary.Summary'>\n",
              "\"\"\"\n",
              "                                  SARIMAX Results                                  \n",
              "===================================================================================\n",
              "Dep. Variable:     Indoor_temperature_room   No. Observations:                 2400\n",
              "Model:                    SARIMAX(0, 1, 0)   Log Likelihood                1289.582\n",
              "Date:                     Thu, 19 May 2022   AIC                          -2577.165\n",
              "Time:                             23:58:12   BIC                          -2571.382\n",
              "Sample:                         03-14-2012   HQIC                         -2575.061\n",
              "                              - 04-07-2012                                         \n",
              "Covariance Type:                       opg                                         \n",
              "==============================================================================\n",
              "                 coef    std err          z      P>|z|      [0.025      0.975]\n",
              "------------------------------------------------------------------------------\n",
              "sigma2         0.0200      0.000     56.077      0.000       0.019       0.021\n",
              "===================================================================================\n",
              "Ljung-Box (L1) (Q):                2091.73   Jarque-Bera (JB):              1953.34\n",
              "Prob(Q):                              0.00   Prob(JB):                         0.00\n",
              "Heteroskedasticity (H):               0.58   Skew:                             1.49\n",
              "Prob(H) (two-sided):                  0.00   Kurtosis:                         6.27\n",
              "===================================================================================\n",
              "\n",
              "Warnings:\n",
              "[1] Covariance matrix calculated using the outer product of gradients (complex-step).\n",
              "\"\"\""
            ],
            "text/html": [
              "<table class=\"simpletable\">\n",
              "<caption>SARIMAX Results</caption>\n",
              "<tr>\n",
              "  <th>Dep. Variable:</th>   <td>Indoor_temperature_room</td> <th>  No. Observations:  </th>   <td>2400</td>   \n",
              "</tr>\n",
              "<tr>\n",
              "  <th>Model:</th>              <td>SARIMAX(0, 1, 0)</td>     <th>  Log Likelihood     </th> <td>1289.582</td> \n",
              "</tr>\n",
              "<tr>\n",
              "  <th>Date:</th>               <td>Thu, 19 May 2022</td>     <th>  AIC                </th> <td>-2577.165</td>\n",
              "</tr>\n",
              "<tr>\n",
              "  <th>Time:</th>                   <td>23:58:12</td>         <th>  BIC                </th> <td>-2571.382</td>\n",
              "</tr>\n",
              "<tr>\n",
              "  <th>Sample:</th>                <td>03-14-2012</td>        <th>  HQIC               </th> <td>-2575.061</td>\n",
              "</tr>\n",
              "<tr>\n",
              "  <th></th>                      <td>- 04-07-2012</td>       <th>                     </th>     <td> </td>    \n",
              "</tr>\n",
              "<tr>\n",
              "  <th>Covariance Type:</th>           <td>opg</td>           <th>                     </th>     <td> </td>    \n",
              "</tr>\n",
              "</table>\n",
              "<table class=\"simpletable\">\n",
              "<tr>\n",
              "     <td></td>       <th>coef</th>     <th>std err</th>      <th>z</th>      <th>P>|z|</th>  <th>[0.025</th>    <th>0.975]</th>  \n",
              "</tr>\n",
              "<tr>\n",
              "  <th>sigma2</th> <td>    0.0200</td> <td>    0.000</td> <td>   56.077</td> <td> 0.000</td> <td>    0.019</td> <td>    0.021</td>\n",
              "</tr>\n",
              "</table>\n",
              "<table class=\"simpletable\">\n",
              "<tr>\n",
              "  <th>Ljung-Box (L1) (Q):</th>     <td>2091.73</td> <th>  Jarque-Bera (JB):  </th> <td>1953.34</td>\n",
              "</tr>\n",
              "<tr>\n",
              "  <th>Prob(Q):</th>                 <td>0.00</td>   <th>  Prob(JB):          </th>  <td>0.00</td>  \n",
              "</tr>\n",
              "<tr>\n",
              "  <th>Heteroskedasticity (H):</th>  <td>0.58</td>   <th>  Skew:              </th>  <td>1.49</td>  \n",
              "</tr>\n",
              "<tr>\n",
              "  <th>Prob(H) (two-sided):</th>     <td>0.00</td>   <th>  Kurtosis:          </th>  <td>6.27</td>  \n",
              "</tr>\n",
              "</table><br/><br/>Warnings:<br/>[1] Covariance matrix calculated using the outer product of gradients (complex-step)."
            ]
          },
          "metadata": {},
          "execution_count": 27
        }
      ]
    },
    {
      "cell_type": "code",
      "source": [
        "#avaliando o modelo.\n",
        "inicio=len(dfTreino)\n",
        "fim=len(dfTreino)+len(dfTeste)-1\n",
        "dfTeste['SARIMAX'] = ajustado_sarimax.predict(start=inicio, end=fim, dynamic=False, typ='levels')\n"
      ],
      "metadata": {
        "colab": {
          "base_uri": "https://localhost:8080/"
        },
        "id": "KFkvNlMKo0qP",
        "outputId": "6eb072be-11a1-4afa-b73d-14f22c32933d"
      },
      "execution_count": null,
      "outputs": [
        {
          "output_type": "stream",
          "name": "stderr",
          "text": [
            "/usr/local/lib/python3.7/dist-packages/ipykernel_launcher.py:4: SettingWithCopyWarning: \n",
            "A value is trying to be set on a copy of a slice from a DataFrame.\n",
            "Try using .loc[row_indexer,col_indexer] = value instead\n",
            "\n",
            "See the caveats in the documentation: https://pandas.pydata.org/pandas-docs/stable/user_guide/indexing.html#returning-a-view-versus-a-copy\n",
            "  after removing the cwd from sys.path.\n"
          ]
        }
      ]
    },
    {
      "cell_type": "code",
      "source": [
        "sarimax = mean_absolute_error(dfTeste['Indoor_temperature_room'],dfTeste['SARIMAX'])\n",
        "print('MAE do SARIMAX:', sarimax)"
      ],
      "metadata": {
        "colab": {
          "base_uri": "https://localhost:8080/"
        },
        "id": "lskZMoIVo-NH",
        "outputId": "8b95742f-27ec-4b7d-fb61-7d2b39e11b84"
      },
      "execution_count": null,
      "outputs": [
        {
          "output_type": "stream",
          "name": "stdout",
          "text": [
            "MAE do SARIMAX: 2.878962152777777\n"
          ]
        }
      ]
    },
    {
      "cell_type": "code",
      "source": [
        "plotaSeries(None, dfTeste['Indoor_temperature_room'], dfTeste['SARIMAX'])"
      ],
      "metadata": {
        "colab": {
          "base_uri": "https://localhost:8080/",
          "height": 506
        },
        "id": "N7FNvwEjpCaY",
        "outputId": "29f1a70d-9292-48c4-e2bf-5e2a0a006d5b"
      },
      "execution_count": null,
      "outputs": [
        {
          "output_type": "display_data",
          "data": {
            "text/plain": [
              "<Figure size 1152x576 with 1 Axes>"
            ],
            "image/png": "[encoded data removed]"
          },
          "metadata": {
            "needs_background": "light"
          }
        }
      ]
    }
  ]
}