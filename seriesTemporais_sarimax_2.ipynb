{
  "nbformat": 4,
  "nbformat_minor": 0,
  "metadata": {
    "colab": {
      "name": "seriesTemporais.ipynb",
      "provenance": [],
      "include_colab_link": true
    },
    "kernelspec": {
      "name": "python3",
      "display_name": "Python 3"
    },
    "language_info": {
      "name": "python"
    }
  },
  "cells": [
    {
      "cell_type": "markdown",
      "metadata": {
        "id": "view-in-github",
        "colab_type": "text"
      },
      "source": [
        "<a href=\"https://colab.research.google.com/github/HedersonSantos/SmartHome/blob/main/seriesTemporais_sarimax_2.ipynb\" target=\"_parent\"><img src=\"https://colab.research.google.com/assets/colab-badge.svg\" alt=\"Open In Colab\"/></a>"
      ]
    },
    {
      "cell_type": "code",
      "source": [
        "!pip install pmdarima"
      ],
      "metadata": {
        "colab": {
          "base_uri": "https://localhost:8080/"
        },
        "id": "xwdvs1KvVDQx",
        "outputId": "4ec37815-c01c-4d6a-cf39-fd882da241cf"
      },
      "execution_count": null,
      "outputs": [
        {
          "output_type": "stream",
          "name": "stdout",
          "text": [
            "Looking in indexes: https://pypi.org/simple, https://us-python.pkg.dev/colab-wheels/public/simple/\n",
            "Collecting pmdarima\n",
            "  Downloading pmdarima-1.8.5-cp37-cp37m-manylinux_2_17_x86_64.manylinux2014_x86_64.manylinux_2_24_x86_64.whl (1.4 MB)\n",
            "\u001b[K     |████████████████████████████████| 1.4 MB 6.4 MB/s \n",
            "\u001b[?25hRequirement already satisfied: Cython!=0.29.18,>=0.29 in /usr/local/lib/python3.7/dist-packages (from pmdarima) (0.29.30)\n",
            "Requirement already satisfied: setuptools!=50.0.0,>=38.6.0 in /usr/local/lib/python3.7/dist-packages (from pmdarima) (57.4.0)\n",
            "Requirement already satisfied: scikit-learn>=0.22 in /usr/local/lib/python3.7/dist-packages (from pmdarima) (1.0.2)\n",
            "Requirement already satisfied: pandas>=0.19 in /usr/local/lib/python3.7/dist-packages (from pmdarima) (1.3.5)\n",
            "Requirement already satisfied: scipy>=1.3.2 in /usr/local/lib/python3.7/dist-packages (from pmdarima) (1.4.1)\n",
            "Requirement already satisfied: urllib3 in /usr/local/lib/python3.7/dist-packages (from pmdarima) (1.24.3)\n",
            "Requirement already satisfied: numpy>=1.19.3 in /usr/local/lib/python3.7/dist-packages (from pmdarima) (1.21.6)\n",
            "Requirement already satisfied: joblib>=0.11 in /usr/local/lib/python3.7/dist-packages (from pmdarima) (1.1.0)\n",
            "Collecting statsmodels!=0.12.0,>=0.11\n",
            "  Downloading statsmodels-0.13.2-cp37-cp37m-manylinux_2_17_x86_64.manylinux2014_x86_64.whl (9.8 MB)\n",
            "\u001b[K     |███████████████████████████     | 8.3 MB 29.3 MB/s eta 0:00:01"
          ]
        }
      ]
    },
    {
      "cell_type": "code",
      "execution_count": null,
      "metadata": {
        "id": "8fyvFjnLUkWn"
      },
      "outputs": [],
      "source": [
        "import pandas as pd\n",
        "import numpy as np\n",
        "import matplotlib.pyplot as plt\n",
        "%matplotlib inline\n",
        "import seaborn as sns\n",
        "from datetime import datetime\n",
        "pd.set_option('display.max_columns', None)\n",
        "pd.set_option('display.max_rows', None)\n",
        "pd.set_option('max_colwidth', None)\n",
        "\n",
        "from sklearn.preprocessing import MinMaxScaler\n",
        "\n",
        "\n",
        "from statsmodels.tsa.stattools import acovf, acf, pacf, pacf_yw, pacf_ols\n",
        "from statsmodels.graphics.tsaplots import plot_acf, plot_pacf # para determinar (p,q)\n",
        "from statsmodels.tsa.seasonal import seasonal_decompose\n",
        "from statsmodels.tsa.statespace.tools import diff\n",
        "from statsmodels.tsa.stattools import adfuller\n",
        "\n",
        "from statsmodels.tsa.holtwinters import ExponentialSmoothing\n",
        "from statsmodels.tsa.arima_model import ARIMA\n",
        "from statsmodels.tsa.statespace.sarimax import SARIMAX\n",
        "from statsmodels.tsa.forecasting.theta import ThetaModel\n",
        "\n",
        "from pmdarima.arima.utils import ndiffs\n",
        "from pmdarima import auto_arima\n",
        "\n",
        "\n",
        "from tensorflow.keras.preprocessing.sequence import TimeseriesGenerator\n",
        "from tensorflow.keras.models import Sequential\n",
        "from tensorflow.keras.layers import Dense\n",
        "from tensorflow.keras.layers import LSTM\n",
        "\n",
        "from sklearn.metrics import mean_squared_error,mean_absolute_error\n",
        "from sklearn.preprocessing import MinMaxScaler\n"
      ]
    },
    {
      "cell_type": "code",
      "source": [
        "!wget https://raw.githubusercontent.com/HedersonSantos/SmartHome/main/train.csv\n",
        "!wget https://raw.githubusercontent.com/HedersonSantos/SmartHome/main/test.csv\n",
        "!wget https://raw.githubusercontent.com/HedersonSantos/SmartHome/main/sample_submission.csv"
      ],
      "metadata": {
        "id": "CQI_GS3AU-pi"
      },
      "execution_count": null,
      "outputs": []
    },
    {
      "cell_type": "code",
      "source": [
        "def plotaSeries(treino, teste, predito):\n",
        "  if type(treino) == pd.core.series.Series:\n",
        "    treino.plot(legend=True,label='Treino')\n",
        "  if type(teste) == pd.core.series.Series:\n",
        "    teste.plot(legend=True,label='Teste',figsize=(16,8))\n",
        "  if  type(predito)==pd.core.series.Series:\n",
        "    predito.plot(legend=True) \n",
        "  else:\n",
        "    for p in predito.columns:\n",
        "      predito[p].plot(legend=True)"
      ],
      "metadata": {
        "id": "sgwEsZV5YvUj"
      },
      "execution_count": null,
      "outputs": []
    },
    {
      "cell_type": "code",
      "source": [
        "df_treino = pd.read_csv('train.csv')\n",
        "df_treino['data_hora'] = df_treino.loc[:,['Date', 'Time']].apply(lambda x: datetime.strptime(x['Date'] + ' ' + x['Time'], '%d/%m/%Y %H:%M'), axis=1)\n",
        "df_treino = df_treino.sort_values(by='data_hora')\n",
        "df_treino = df_treino.set_index('data_hora')\n",
        "#idx = pd.date_range(start=df_treino.index.min(), end=df_treino.index.max(),  freq='0h15min')\n",
        "#df_treino= df_treino.reindex(idx)\n",
        "dfx = df_treino[['CO2_room','Relative_humidity_room','Lighting_room','Outdoor_relative_humidity_Sensor','Indoor_temperature_room']].resample('H').mean().iloc[1: , ]\n",
        "df_treino = pd.DataFrame(dfx, columns = ['CO2_room','Relative_humidity_room','Lighting_room','Outdoor_relative_humidity_Sensor','Indoor_temperature_room'])\n",
        "df_treino.fillna(method='ffill', inplace=True)"
      ],
      "metadata": {
        "id": "aMdQ7GMtWr8U"
      },
      "execution_count": null,
      "outputs": []
    },
    {
      "cell_type": "code",
      "source": [
        "min(df_treino.index), max(df_treino.index)"
      ],
      "metadata": {
        "id": "jcxBAk-Wa1gh"
      },
      "execution_count": null,
      "outputs": []
    },
    {
      "cell_type": "code",
      "source": [
        "df_treino.info() "
      ],
      "metadata": {
        "id": "nQDu2723dcYj"
      },
      "execution_count": null,
      "outputs": []
    },
    {
      "cell_type": "code",
      "source": [
        "dfx = pd.DataFrame(df_treino).reset_index()\n",
        "dfx['data'] =  dfx['data_hora'].apply(lambda x: x.strftime('%Y-%m-%d'))\n",
        "dfx.groupby('data')['data_hora'].count().reset_index().sort_values('data')"
      ],
      "metadata": {
        "id": "v9KXFG7Nlx7t"
      },
      "execution_count": null,
      "outputs": []
    },
    {
      "cell_type": "code",
      "source": [
        "df_treino = df_treino[df_treino.index.strftime('%Y-%m-%d') !=\"2012-03-13\"]\n",
        "df_treino = df_treino[df_treino.index.strftime('%Y-%m-%d') !=\"2012-04-11\"]"
      ],
      "metadata": {
        "id": "YSzSHpdOl7Ha"
      },
      "execution_count": null,
      "outputs": []
    },
    {
      "cell_type": "code",
      "source": [
        "df_treino.head(5)"
      ],
      "metadata": {
        "id": "8n_1Ed3EnUJE"
      },
      "execution_count": null,
      "outputs": []
    },
    {
      "cell_type": "code",
      "source": [
        "#dividindo a amostra em treino e teste\n",
        "dfTreino = df_treino[df_treino.index < datetime(2012,4,8,0,0)]\n",
        "dfTeste = df_treino[df_treino.index >= datetime(2012,4,8,0,0)]\n",
        "print(dfTreino.shape, dfTeste.shape)\n",
        "print(min(dfTreino.index), max(dfTreino.index))\n",
        "print(min(dfTeste.index), max(dfTeste.index))"
      ],
      "metadata": {
        "id": "CB-ha5oiLIn8"
      },
      "execution_count": null,
      "outputs": []
    },
    {
      "cell_type": "code",
      "source": [
        "scaler = MinMaxScaler()\n",
        "treino_values = scaler.fit_transform(dfTreino[['Relative_humidity_room', 'CO2_room' , 'Outdoor_relative_humidity_Sensor', 'Lighting_room']])\n",
        "teste_values = scaler.fit_transform(dfTeste[['Relative_humidity_room', 'CO2_room' , 'Outdoor_relative_humidity_Sensor', 'Lighting_room']])\n",
        "dfTreino_tmp = pd.DataFrame(treino_values, columns = ['Relative_humidity_room', 'CO2_room' , 'Outdoor_relative_humidity_Sensor', 'Lighting_room'] )\n",
        "dfTreino = dfTreino[['Indoor_temperature_room']]\n",
        "for c in dfTreino_tmp.columns:\n",
        "  dfTreino[c] = dfTreino_tmp[c].tolist()\n",
        " \n",
        "dfTeste_tmp = pd.DataFrame(teste_values,  columns = ['Relative_humidity_room', 'CO2_room' , 'Outdoor_relative_humidity_Sensor', 'Lighting_room'])\n",
        "dfTeste = dfTeste[['Indoor_temperature_room']]\n",
        "for c in dfTeste_tmp.columns:\n",
        "  dfTeste[c] = dfTeste_tmp[c].tolist()"
      ],
      "metadata": {
        "id": "7bSR2xbX1LV_"
      },
      "execution_count": null,
      "outputs": []
    },
    {
      "cell_type": "code",
      "source": [
        "dfTreino.head(3)"
      ],
      "metadata": {
        "id": "WKoPX25u1ug4"
      },
      "execution_count": null,
      "outputs": []
    },
    {
      "cell_type": "code",
      "source": [
        "stepwise_fit = auto_arima(dfTreino[['Indoor_temperature_room']], start_p=2, start_q=2,\n",
        "                          max_p=2, max_q=2, m=24,\n",
        "                          seasonal=True,\n",
        "                          d=None, trace=True,\n",
        "                          error_action='ignore',   \n",
        "                          suppress_warnings=True,  \n",
        "                          stepwise=True)"
      ],
      "metadata": {
        "id": "P4EcxaAzGm1N"
      },
      "execution_count": null,
      "outputs": []
    },
    {
      "cell_type": "code",
      "source": [
        "modelo1 = SARIMAX(dfTreino['Indoor_temperature_room'],order=(2,1,2),seasonal_order=(1,0,1,24))\n",
        "resultado1 = modelo1.fit()\n",
        "resultado1.summary()\n",
        "\n",
        "\n"
      ],
      "metadata": {
        "id": "n-drIyoPJNRk"
      },
      "execution_count": null,
      "outputs": []
    },
    {
      "cell_type": "code",
      "source": [
        "previsoes1 = resultado1.predict(start=dfTeste.index.min(), end=dfTeste.index.max(), dynamic=False, typ='levels')\n",
        "dfTeste['previsoes'] = previsoes1\n",
        "#previsoes1.index = dfTeste.index\n",
        "#previsoes1['Indoor_temperature_room']=dfTeste['Indoor_temperature_room']\n",
        "\n",
        "#previsoes1.head(10)"
      ],
      "metadata": {
        "id": "v7Y_LwgbPMZm"
      },
      "execution_count": null,
      "outputs": []
    },
    {
      "cell_type": "code",
      "source": [
        "dfTeste.head(10)"
      ],
      "metadata": {
        "id": "mcn-iyBeMS_R"
      },
      "execution_count": null,
      "outputs": []
    },
    {
      "cell_type": "code",
      "source": [
        "plotaSeries(None, dfTeste['Indoor_temperature_room'], dfTeste['previsoes'])"
      ],
      "metadata": {
        "id": "ywvhLG_HMuDG"
      },
      "execution_count": null,
      "outputs": []
    },
    {
      "cell_type": "code",
      "source": [
        "resíduos1 = resultado1.resid"
      ],
      "metadata": {
        "id": "-74Vg3MSA8I0"
      },
      "execution_count": null,
      "outputs": []
    },
    {
      "cell_type": "code",
      "source": [
        "plot_acf(resíduos1, lags=30)\n",
        "plot_pacf(resíduos1, lags=30)\n",
        "plt.show()"
      ],
      "metadata": {
        "id": "sc-ICq3qN50Z"
      },
      "execution_count": null,
      "outputs": []
    },
    {
      "cell_type": "code",
      "source": [
        "resíduos1.hist()\n",
        "\n",
        "plt.show()\n",
        "resíduos1.plot(kind='kde')\n",
        "plt.show()"
      ],
      "metadata": {
        "id": "EkoSerhWOMK4"
      },
      "execution_count": null,
      "outputs": []
    },
    {
      "cell_type": "code",
      "source": [
        "df_teste = pd.read_csv('test.csv')\n",
        "df_teste['data_hora'] = df_teste.loc[:,['Date', 'Time']].apply(lambda x: datetime.strptime(x['Date'] + ' ' + x['Time'], '%d/%m/%Y %H:%M'), axis=1)\n",
        "df_teste = df_teste.sort_values(by='data_hora')\n",
        "df_teste = df_teste.set_index('data_hora')\n",
        "#dfx = df_treino['Indoor_temperature_room'].resample('H').mean().iloc[1: , ]\n",
        "#df_teste = pd.DataFrame(dfx, columns = ['Indoor_temperature_room'])\n",
        "df_teste.fillna(method='ffill', inplace=True)"
      ],
      "metadata": {
        "id": "QGfdPxjwXcFA"
      },
      "execution_count": null,
      "outputs": []
    },
    {
      "cell_type": "code",
      "source": [
        "true_predictions = resultado1.predict(start=df_teste.index.min(), end=df_teste.index.max(), dynamic=False, typ='levels')\n",
        "df_teste['Indoor_temperature_room'] = true_predictions\n",
        "df_teste['Id'] = df_teste['Id'].astype('int')\n",
        "df_teste[['Id', 'Indoor_temperature_room']].to_csv('hederson_submition.csv', index=False)"
      ],
      "metadata": {
        "id": "KS9rpSxZXYXo"
      },
      "execution_count": null,
      "outputs": []
    },
    {
      "cell_type": "code",
      "source": [
        "!cat hederson_submition.csv"
      ],
      "metadata": {
        "id": "4F2m6BznXxJb"
      },
      "execution_count": null,
      "outputs": []
    }
  ]
}