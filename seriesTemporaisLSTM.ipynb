{
  "nbformat": 4,
  "nbformat_minor": 0,
  "metadata": {
    "colab": {
      "name": "seriesTemporais.ipynb",
      "provenance": [],
      "include_colab_link": true
    },
    "kernelspec": {
      "name": "python3",
      "display_name": "Python 3"
    },
    "language_info": {
      "name": "python"
    }
  },
  "cells": [
    {
      "cell_type": "markdown",
      "metadata": {
        "id": "view-in-github",
        "colab_type": "text"
      },
      "source": [
        "<a href=\"https://colab.research.google.com/github/HedersonSantos/SmartHome/blob/main/seriesTemporaisLSTM.ipynb\" target=\"_parent\"><img src=\"https://colab.research.google.com/assets/colab-badge.svg\" alt=\"Open In Colab\"/></a>"
      ]
    },
    {
      "cell_type": "code",
      "source": [
        "!pip install pmdarima"
      ],
      "metadata": {
        "colab": {
          "base_uri": "https://localhost:8080/"
        },
        "id": "xwdvs1KvVDQx",
        "outputId": "5f76b9de-6754-4794-e958-3857572d8e0c"
      },
      "execution_count": 1,
      "outputs": [
        {
          "output_type": "stream",
          "name": "stdout",
          "text": [
            "Looking in indexes: https://pypi.org/simple, https://us-python.pkg.dev/colab-wheels/public/simple/\n",
            "Collecting pmdarima\n",
            "  Downloading pmdarima-1.8.5-cp37-cp37m-manylinux_2_17_x86_64.manylinux2014_x86_64.manylinux_2_24_x86_64.whl (1.4 MB)\n",
            "\u001b[K     |████████████████████████████████| 1.4 MB 27.5 MB/s \n",
            "\u001b[?25hRequirement already satisfied: numpy>=1.19.3 in /usr/local/lib/python3.7/dist-packages (from pmdarima) (1.21.6)\n",
            "Requirement already satisfied: pandas>=0.19 in /usr/local/lib/python3.7/dist-packages (from pmdarima) (1.3.5)\n",
            "Requirement already satisfied: urllib3 in /usr/local/lib/python3.7/dist-packages (from pmdarima) (1.24.3)\n",
            "Requirement already satisfied: setuptools!=50.0.0,>=38.6.0 in /usr/local/lib/python3.7/dist-packages (from pmdarima) (57.4.0)\n",
            "Requirement already satisfied: scikit-learn>=0.22 in /usr/local/lib/python3.7/dist-packages (from pmdarima) (1.0.2)\n",
            "Requirement already satisfied: joblib>=0.11 in /usr/local/lib/python3.7/dist-packages (from pmdarima) (1.1.0)\n",
            "Requirement already satisfied: scipy>=1.3.2 in /usr/local/lib/python3.7/dist-packages (from pmdarima) (1.4.1)\n",
            "Collecting statsmodels!=0.12.0,>=0.11\n",
            "  Downloading statsmodels-0.13.2-cp37-cp37m-manylinux_2_17_x86_64.manylinux2014_x86_64.whl (9.8 MB)\n",
            "\u001b[K     |████████████████████████████████| 9.8 MB 50.7 MB/s \n",
            "\u001b[?25hRequirement already satisfied: Cython!=0.29.18,>=0.29 in /usr/local/lib/python3.7/dist-packages (from pmdarima) (0.29.30)\n",
            "Requirement already satisfied: python-dateutil>=2.7.3 in /usr/local/lib/python3.7/dist-packages (from pandas>=0.19->pmdarima) (2.8.2)\n",
            "Requirement already satisfied: pytz>=2017.3 in /usr/local/lib/python3.7/dist-packages (from pandas>=0.19->pmdarima) (2022.1)\n",
            "Requirement already satisfied: six>=1.5 in /usr/local/lib/python3.7/dist-packages (from python-dateutil>=2.7.3->pandas>=0.19->pmdarima) (1.15.0)\n",
            "Requirement already satisfied: threadpoolctl>=2.0.0 in /usr/local/lib/python3.7/dist-packages (from scikit-learn>=0.22->pmdarima) (3.1.0)\n",
            "Requirement already satisfied: packaging>=21.3 in /usr/local/lib/python3.7/dist-packages (from statsmodels!=0.12.0,>=0.11->pmdarima) (21.3)\n",
            "Requirement already satisfied: patsy>=0.5.2 in /usr/local/lib/python3.7/dist-packages (from statsmodels!=0.12.0,>=0.11->pmdarima) (0.5.2)\n",
            "Requirement already satisfied: pyparsing!=3.0.5,>=2.0.2 in /usr/local/lib/python3.7/dist-packages (from packaging>=21.3->statsmodels!=0.12.0,>=0.11->pmdarima) (3.0.9)\n",
            "Installing collected packages: statsmodels, pmdarima\n",
            "  Attempting uninstall: statsmodels\n",
            "    Found existing installation: statsmodels 0.10.2\n",
            "    Uninstalling statsmodels-0.10.2:\n",
            "      Successfully uninstalled statsmodels-0.10.2\n",
            "Successfully installed pmdarima-1.8.5 statsmodels-0.13.2\n"
          ]
        }
      ]
    },
    {
      "cell_type": "code",
      "execution_count": 2,
      "metadata": {
        "id": "8fyvFjnLUkWn"
      },
      "outputs": [],
      "source": [
        "import pandas as pd\n",
        "import numpy as np\n",
        "import matplotlib.pyplot as plt\n",
        "%matplotlib inline\n",
        "import seaborn as sns\n",
        "from datetime import datetime\n",
        "pd.set_option('display.max_columns', None)\n",
        "pd.set_option('display.max_rows', None)\n",
        "pd.set_option('max_colwidth', None)\n",
        "\n",
        "\n",
        "from statsmodels.tsa.stattools import acovf, acf, pacf, pacf_yw, pacf_ols\n",
        "from statsmodels.graphics.tsaplots import plot_acf, plot_pacf # para determinar (p,q)\n",
        "from statsmodels.tsa.seasonal import seasonal_decompose\n",
        "from statsmodels.tsa.statespace.tools import diff\n",
        "from statsmodels.tsa.stattools import adfuller\n",
        "\n",
        "from statsmodels.tsa.holtwinters import ExponentialSmoothing\n",
        "from statsmodels.tsa.arima_model import ARIMA\n",
        "from statsmodels.tsa.statespace.sarimax import SARIMAX\n",
        "from statsmodels.tsa.forecasting.theta import ThetaModel\n",
        "\n",
        "from pmdarima.arima.utils import ndiffs\n",
        "from pmdarima import auto_arima\n",
        "\n",
        "\n",
        "from tensorflow.keras.preprocessing.sequence import TimeseriesGenerator\n",
        "from tensorflow.keras.models import Sequential\n",
        "from tensorflow.keras.layers import Dense\n",
        "from tensorflow.keras.layers import LSTM\n",
        "\n",
        "from sklearn.metrics import mean_squared_error,mean_absolute_error\n",
        "from sklearn.preprocessing import MinMaxScaler\n"
      ]
    },
    {
      "cell_type": "code",
      "source": [
        "!wget https://raw.githubusercontent.com/HedersonSantos/SmartHome/main/train.csv\n",
        "!wget https://raw.githubusercontent.com/HedersonSantos/SmartHome/main/test.csv\n",
        "!wget https://raw.githubusercontent.com/HedersonSantos/SmartHome/main/sample_submission.csv"
      ],
      "metadata": {
        "id": "CQI_GS3AU-pi",
        "colab": {
          "base_uri": "https://localhost:8080/"
        },
        "outputId": "ec6b6fc4-0280-4896-9dcb-287585e5bec2"
      },
      "execution_count": 3,
      "outputs": [
        {
          "output_type": "stream",
          "name": "stdout",
          "text": [
            "--2022-05-23 23:05:29--  https://raw.githubusercontent.com/HedersonSantos/SmartHome/main/train.csv\n",
            "Resolving raw.githubusercontent.com (raw.githubusercontent.com)... 185.199.109.133, 185.199.110.133, 185.199.108.133, ...\n",
            "Connecting to raw.githubusercontent.com (raw.githubusercontent.com)|185.199.109.133|:443... connected.\n",
            "HTTP request sent, awaiting response... 200 OK\n",
            "Length: 360467 (352K) [text/plain]\n",
            "Saving to: ‘train.csv’\n",
            "\n",
            "\rtrain.csv             0%[                    ]       0  --.-KB/s               \rtrain.csv           100%[===================>] 352.02K  --.-KB/s    in 0.004s  \n",
            "\n",
            "2022-05-23 23:05:29 (88.0 MB/s) - ‘train.csv’ saved [360467/360467]\n",
            "\n",
            "--2022-05-23 23:05:29--  https://raw.githubusercontent.com/HedersonSantos/SmartHome/main/test.csv\n",
            "Resolving raw.githubusercontent.com (raw.githubusercontent.com)... 185.199.108.133, 185.199.109.133, 185.199.110.133, ...\n",
            "Connecting to raw.githubusercontent.com (raw.githubusercontent.com)|185.199.108.133|:443... connected.\n",
            "HTTP request sent, awaiting response... 200 OK\n",
            "Length: 170613 (167K) [text/plain]\n",
            "Saving to: ‘test.csv’\n",
            "\n",
            "test.csv            100%[===================>] 166.61K  --.-KB/s    in 0.003s  \n",
            "\n",
            "2022-05-23 23:05:29 (51.3 MB/s) - ‘test.csv’ saved [170613/170613]\n",
            "\n",
            "--2022-05-23 23:05:29--  https://raw.githubusercontent.com/HedersonSantos/SmartHome/main/sample_submission.csv\n",
            "Resolving raw.githubusercontent.com (raw.githubusercontent.com)... 185.199.110.133, 185.199.111.133, 185.199.108.133, ...\n",
            "Connecting to raw.githubusercontent.com (raw.githubusercontent.com)|185.199.110.133|:443... connected.\n",
            "HTTP request sent, awaiting response... 200 OK\n",
            "Length: 12384 (12K) [text/plain]\n",
            "Saving to: ‘sample_submission.csv’\n",
            "\n",
            "sample_submission.c 100%[===================>]  12.09K  --.-KB/s    in 0s      \n",
            "\n",
            "2022-05-23 23:05:29 (74.7 MB/s) - ‘sample_submission.csv’ saved [12384/12384]\n",
            "\n"
          ]
        }
      ]
    },
    {
      "cell_type": "code",
      "source": [
        "def plotaSeries(treino, teste, predito):\n",
        "  if type(treino) == pd.core.series.Series:\n",
        "    treino.plot(legend=True,label='Treino')\n",
        "  if type(teste) == pd.core.series.Series:\n",
        "    teste.plot(legend=True,label='Teste',figsize=(16,8))\n",
        "  if  type(predito)==pd.core.series.Series:\n",
        "    predito.plot(legend=True) \n",
        "  else:\n",
        "    for p in predito.columns:\n",
        "      predito[p].plot(legend=True)"
      ],
      "metadata": {
        "id": "sgwEsZV5YvUj"
      },
      "execution_count": null,
      "outputs": []
    },
    {
      "cell_type": "code",
      "source": [
        "df_treino = pd.read_csv('train.csv')\n",
        "df_treino['data_hora'] = df_treino.loc[:,['Date', 'Time']].apply(lambda x: datetime.strptime(x['Date'] + ' ' + x['Time'], '%d/%m/%Y %H:%M'), axis=1)\n",
        "df_treino = df_treino.sort_values(by='data_hora')\n",
        "df_treino = df_treino.set_index('data_hora')\n",
        "idx = pd.date_range(start=df_treino.index.min(), end=df_treino.index.max(),  freq='0h15min')\n",
        "df_treino= df_treino.reindex(idx)\n",
        "df_treino.fillna(method='ffill', inplace=True)"
      ],
      "metadata": {
        "id": "aMdQ7GMtWr8U"
      },
      "execution_count": 5,
      "outputs": []
    },
    {
      "cell_type": "code",
      "source": [
        "min(df_treino.index), max(df_treino.index)"
      ],
      "metadata": {
        "colab": {
          "base_uri": "https://localhost:8080/"
        },
        "id": "jcxBAk-Wa1gh",
        "outputId": "73c6bde3-d3e9-43a2-e764-5a0ae04d1f2b"
      },
      "execution_count": 6,
      "outputs": [
        {
          "output_type": "execute_result",
          "data": {
            "text/plain": [
              "(Timestamp('2012-03-13 11:45:00', freq='15T'),\n",
              " Timestamp('2012-04-11 06:30:00', freq='15T'))"
            ]
          },
          "metadata": {},
          "execution_count": 6
        }
      ]
    },
    {
      "cell_type": "code",
      "source": [
        "df_treino.info()"
      ],
      "metadata": {
        "colab": {
          "base_uri": "https://localhost:8080/"
        },
        "id": "nQDu2723dcYj",
        "outputId": "f9471e20-cca8-4714-a015-04e495f749e3"
      },
      "execution_count": 7,
      "outputs": [
        {
          "output_type": "stream",
          "name": "stdout",
          "text": [
            "<class 'pandas.core.frame.DataFrame'>\n",
            "DatetimeIndex: 2764 entries, 2012-03-13 11:45:00 to 2012-04-11 06:30:00\n",
            "Freq: 15T\n",
            "Data columns (total 19 columns):\n",
            " #   Column                            Non-Null Count  Dtype  \n",
            "---  ------                            --------------  -----  \n",
            " 0   Id                                2764 non-null   int64  \n",
            " 1   Date                              2764 non-null   object \n",
            " 2   Time                              2764 non-null   object \n",
            " 3   CO2_(dinning-room)                2764 non-null   float64\n",
            " 4   CO2_room                          2764 non-null   float64\n",
            " 5   Relative_humidity_(dinning-room)  2764 non-null   float64\n",
            " 6   Relative_humidity_room            2764 non-null   float64\n",
            " 7   Lighting_(dinning-room)           2764 non-null   float64\n",
            " 8   Lighting_room                     2764 non-null   float64\n",
            " 9   Meteo_Rain                        2764 non-null   float64\n",
            " 10  Meteo_Sun_dusk                    2764 non-null   float64\n",
            " 11  Meteo_Wind                        2764 non-null   float64\n",
            " 12  Meteo_Sun_light_in_west_facade    2764 non-null   float64\n",
            " 13  Meteo_Sun_light_in_east_facade    2764 non-null   float64\n",
            " 14  Meteo_Sun_light_in_south_facade   2764 non-null   float64\n",
            " 15  Meteo_Sun_irradiance              2764 non-null   float64\n",
            " 16  Outdoor_relative_humidity_Sensor  2764 non-null   float64\n",
            " 17  Day_of_the_week                   2764 non-null   float64\n",
            " 18  Indoor_temperature_room           2764 non-null   float64\n",
            "dtypes: float64(16), int64(1), object(2)\n",
            "memory usage: 431.9+ KB\n"
          ]
        }
      ]
    },
    {
      "cell_type": "code",
      "source": [
        "df_treino.groupby('Date')['Id'].count().reset_index().sort_values('Date')"
      ],
      "metadata": {
        "id": "v9KXFG7Nlx7t",
        "outputId": "c5554782-4dc2-4ebc-b5c0-11b5c5c57b42",
        "colab": {
          "base_uri": "https://localhost:8080/",
          "height": 989
        }
      },
      "execution_count": 8,
      "outputs": [
        {
          "output_type": "execute_result",
          "data": {
            "text/plain": [
              "          Date  Id\n",
              "0   01/04/2012  96\n",
              "1   02/04/2012  96\n",
              "2   03/04/2012  96\n",
              "3   04/04/2012  96\n",
              "4   05/04/2012  96\n",
              "5   06/04/2012  96\n",
              "6   07/04/2012  96\n",
              "7   08/04/2012  96\n",
              "8   09/04/2012  96\n",
              "9   10/04/2012  96\n",
              "10  11/04/2012  27\n",
              "11  13/03/2012  49\n",
              "12  14/03/2012  96\n",
              "13  15/03/2012  96\n",
              "14  16/03/2012  96\n",
              "15  17/03/2012  96\n",
              "16  18/03/2012  96\n",
              "17  19/03/2012  96\n",
              "18  20/03/2012  96\n",
              "19  21/03/2012  96\n",
              "20  22/03/2012  96\n",
              "21  23/03/2012  96\n",
              "22  24/03/2012  96\n",
              "23  25/03/2012  96\n",
              "24  26/03/2012  96\n",
              "25  27/03/2012  96\n",
              "26  28/03/2012  96\n",
              "27  29/03/2012  96\n",
              "28  30/03/2012  96\n",
              "29  31/03/2012  96"
            ],
            "text/html": [
              "\n",
              "  <div id=\"df-1c257b62-3424-4e3d-bd2b-cdd68c1b1970\">\n",
              "    <div class=\"colab-df-container\">\n",
              "      <div>\n",
              "<style scoped>\n",
              "    .dataframe tbody tr th:only-of-type {\n",
              "        vertical-align: middle;\n",
              "    }\n",
              "\n",
              "    .dataframe tbody tr th {\n",
              "        vertical-align: top;\n",
              "    }\n",
              "\n",
              "    .dataframe thead th {\n",
              "        text-align: right;\n",
              "    }\n",
              "</style>\n",
              "<table border=\"1\" class=\"dataframe\">\n",
              "  <thead>\n",
              "    <tr style=\"text-align: right;\">\n",
              "      <th></th>\n",
              "      <th>Date</th>\n",
              "      <th>Id</th>\n",
              "    </tr>\n",
              "  </thead>\n",
              "  <tbody>\n",
              "    <tr>\n",
              "      <th>0</th>\n",
              "      <td>01/04/2012</td>\n",
              "      <td>96</td>\n",
              "    </tr>\n",
              "    <tr>\n",
              "      <th>1</th>\n",
              "      <td>02/04/2012</td>\n",
              "      <td>96</td>\n",
              "    </tr>\n",
              "    <tr>\n",
              "      <th>2</th>\n",
              "      <td>03/04/2012</td>\n",
              "      <td>96</td>\n",
              "    </tr>\n",
              "    <tr>\n",
              "      <th>3</th>\n",
              "      <td>04/04/2012</td>\n",
              "      <td>96</td>\n",
              "    </tr>\n",
              "    <tr>\n",
              "      <th>4</th>\n",
              "      <td>05/04/2012</td>\n",
              "      <td>96</td>\n",
              "    </tr>\n",
              "    <tr>\n",
              "      <th>5</th>\n",
              "      <td>06/04/2012</td>\n",
              "      <td>96</td>\n",
              "    </tr>\n",
              "    <tr>\n",
              "      <th>6</th>\n",
              "      <td>07/04/2012</td>\n",
              "      <td>96</td>\n",
              "    </tr>\n",
              "    <tr>\n",
              "      <th>7</th>\n",
              "      <td>08/04/2012</td>\n",
              "      <td>96</td>\n",
              "    </tr>\n",
              "    <tr>\n",
              "      <th>8</th>\n",
              "      <td>09/04/2012</td>\n",
              "      <td>96</td>\n",
              "    </tr>\n",
              "    <tr>\n",
              "      <th>9</th>\n",
              "      <td>10/04/2012</td>\n",
              "      <td>96</td>\n",
              "    </tr>\n",
              "    <tr>\n",
              "      <th>10</th>\n",
              "      <td>11/04/2012</td>\n",
              "      <td>27</td>\n",
              "    </tr>\n",
              "    <tr>\n",
              "      <th>11</th>\n",
              "      <td>13/03/2012</td>\n",
              "      <td>49</td>\n",
              "    </tr>\n",
              "    <tr>\n",
              "      <th>12</th>\n",
              "      <td>14/03/2012</td>\n",
              "      <td>96</td>\n",
              "    </tr>\n",
              "    <tr>\n",
              "      <th>13</th>\n",
              "      <td>15/03/2012</td>\n",
              "      <td>96</td>\n",
              "    </tr>\n",
              "    <tr>\n",
              "      <th>14</th>\n",
              "      <td>16/03/2012</td>\n",
              "      <td>96</td>\n",
              "    </tr>\n",
              "    <tr>\n",
              "      <th>15</th>\n",
              "      <td>17/03/2012</td>\n",
              "      <td>96</td>\n",
              "    </tr>\n",
              "    <tr>\n",
              "      <th>16</th>\n",
              "      <td>18/03/2012</td>\n",
              "      <td>96</td>\n",
              "    </tr>\n",
              "    <tr>\n",
              "      <th>17</th>\n",
              "      <td>19/03/2012</td>\n",
              "      <td>96</td>\n",
              "    </tr>\n",
              "    <tr>\n",
              "      <th>18</th>\n",
              "      <td>20/03/2012</td>\n",
              "      <td>96</td>\n",
              "    </tr>\n",
              "    <tr>\n",
              "      <th>19</th>\n",
              "      <td>21/03/2012</td>\n",
              "      <td>96</td>\n",
              "    </tr>\n",
              "    <tr>\n",
              "      <th>20</th>\n",
              "      <td>22/03/2012</td>\n",
              "      <td>96</td>\n",
              "    </tr>\n",
              "    <tr>\n",
              "      <th>21</th>\n",
              "      <td>23/03/2012</td>\n",
              "      <td>96</td>\n",
              "    </tr>\n",
              "    <tr>\n",
              "      <th>22</th>\n",
              "      <td>24/03/2012</td>\n",
              "      <td>96</td>\n",
              "    </tr>\n",
              "    <tr>\n",
              "      <th>23</th>\n",
              "      <td>25/03/2012</td>\n",
              "      <td>96</td>\n",
              "    </tr>\n",
              "    <tr>\n",
              "      <th>24</th>\n",
              "      <td>26/03/2012</td>\n",
              "      <td>96</td>\n",
              "    </tr>\n",
              "    <tr>\n",
              "      <th>25</th>\n",
              "      <td>27/03/2012</td>\n",
              "      <td>96</td>\n",
              "    </tr>\n",
              "    <tr>\n",
              "      <th>26</th>\n",
              "      <td>28/03/2012</td>\n",
              "      <td>96</td>\n",
              "    </tr>\n",
              "    <tr>\n",
              "      <th>27</th>\n",
              "      <td>29/03/2012</td>\n",
              "      <td>96</td>\n",
              "    </tr>\n",
              "    <tr>\n",
              "      <th>28</th>\n",
              "      <td>30/03/2012</td>\n",
              "      <td>96</td>\n",
              "    </tr>\n",
              "    <tr>\n",
              "      <th>29</th>\n",
              "      <td>31/03/2012</td>\n",
              "      <td>96</td>\n",
              "    </tr>\n",
              "  </tbody>\n",
              "</table>\n",
              "</div>\n",
              "      <button class=\"colab-df-convert\" onclick=\"convertToInteractive('df-1c257b62-3424-4e3d-bd2b-cdd68c1b1970')\"\n",
              "              title=\"Convert this dataframe to an interactive table.\"\n",
              "              style=\"display:none;\">\n",
              "        \n",
              "  <svg xmlns=\"http://www.w3.org/2000/svg\" height=\"24px\"viewBox=\"0 0 24 24\"\n",
              "       width=\"24px\">\n",
              "    <path d=\"M0 0h24v24H0V0z\" fill=\"none\"/>\n",
              "    <path d=\"M18.56 5.44l.94 2.06.94-2.06 2.06-.94-2.06-.94-.94-2.06-.94 2.06-2.06.94zm-11 1L8.5 8.5l.94-2.06 2.06-.94-2.06-.94L8.5 2.5l-.94 2.06-2.06.94zm10 10l.94 2.06.94-2.06 2.06-.94-2.06-.94-.94-2.06-.94 2.06-2.06.94z\"/><path d=\"M17.41 7.96l-1.37-1.37c-.4-.4-.92-.59-1.43-.59-.52 0-1.04.2-1.43.59L10.3 9.45l-7.72 7.72c-.78.78-.78 2.05 0 2.83L4 21.41c.39.39.9.59 1.41.59.51 0 1.02-.2 1.41-.59l7.78-7.78 2.81-2.81c.8-.78.8-2.07 0-2.86zM5.41 20L4 18.59l7.72-7.72 1.47 1.35L5.41 20z\"/>\n",
              "  </svg>\n",
              "      </button>\n",
              "      \n",
              "  <style>\n",
              "    .colab-df-container {\n",
              "      display:flex;\n",
              "      flex-wrap:wrap;\n",
              "      gap: 12px;\n",
              "    }\n",
              "\n",
              "    .colab-df-convert {\n",
              "      background-color: #E8F0FE;\n",
              "      border: none;\n",
              "      border-radius: 50%;\n",
              "      cursor: pointer;\n",
              "      display: none;\n",
              "      fill: #1967D2;\n",
              "      height: 32px;\n",
              "      padding: 0 0 0 0;\n",
              "      width: 32px;\n",
              "    }\n",
              "\n",
              "    .colab-df-convert:hover {\n",
              "      background-color: #E2EBFA;\n",
              "      box-shadow: 0px 1px 2px rgba(60, 64, 67, 0.3), 0px 1px 3px 1px rgba(60, 64, 67, 0.15);\n",
              "      fill: #174EA6;\n",
              "    }\n",
              "\n",
              "    [theme=dark] .colab-df-convert {\n",
              "      background-color: #3B4455;\n",
              "      fill: #D2E3FC;\n",
              "    }\n",
              "\n",
              "    [theme=dark] .colab-df-convert:hover {\n",
              "      background-color: #434B5C;\n",
              "      box-shadow: 0px 1px 3px 1px rgba(0, 0, 0, 0.15);\n",
              "      filter: drop-shadow(0px 1px 2px rgba(0, 0, 0, 0.3));\n",
              "      fill: #FFFFFF;\n",
              "    }\n",
              "  </style>\n",
              "\n",
              "      <script>\n",
              "        const buttonEl =\n",
              "          document.querySelector('#df-1c257b62-3424-4e3d-bd2b-cdd68c1b1970 button.colab-df-convert');\n",
              "        buttonEl.style.display =\n",
              "          google.colab.kernel.accessAllowed ? 'block' : 'none';\n",
              "\n",
              "        async function convertToInteractive(key) {\n",
              "          const element = document.querySelector('#df-1c257b62-3424-4e3d-bd2b-cdd68c1b1970');\n",
              "          const dataTable =\n",
              "            await google.colab.kernel.invokeFunction('convertToInteractive',\n",
              "                                                     [key], {});\n",
              "          if (!dataTable) return;\n",
              "\n",
              "          const docLinkHtml = 'Like what you see? Visit the ' +\n",
              "            '<a target=\"_blank\" href=https://colab.research.google.com/notebooks/data_table.ipynb>data table notebook</a>'\n",
              "            + ' to learn more about interactive tables.';\n",
              "          element.innerHTML = '';\n",
              "          dataTable['output_type'] = 'display_data';\n",
              "          await google.colab.output.renderOutput(dataTable, element);\n",
              "          const docLink = document.createElement('div');\n",
              "          docLink.innerHTML = docLinkHtml;\n",
              "          element.appendChild(docLink);\n",
              "        }\n",
              "      </script>\n",
              "    </div>\n",
              "  </div>\n",
              "  "
            ]
          },
          "metadata": {},
          "execution_count": 8
        }
      ]
    },
    {
      "cell_type": "code",
      "source": [
        "df_treino = df_treino[df_treino['Date']!=\"13/03/2012\"]\n",
        "df_treino = df_treino[df_treino['Date']!=\"11/04/2012\"]"
      ],
      "metadata": {
        "id": "YSzSHpdOl7Ha"
      },
      "execution_count": 9,
      "outputs": []
    },
    {
      "cell_type": "code",
      "source": [
        "df_treino.head(3)"
      ],
      "metadata": {
        "id": "8n_1Ed3EnUJE",
        "outputId": "163f6008-f846-485c-fca4-b178c040df40",
        "colab": {
          "base_uri": "https://localhost:8080/",
          "height": 329
        }
      },
      "execution_count": 10,
      "outputs": [
        {
          "output_type": "execute_result",
          "data": {
            "text/plain": [
              "                     Id        Date   Time  CO2_(dinning-room)  CO2_room  \\\n",
              "2012-03-14 00:00:00  49  14/03/2012  00:00             217.835   223.381   \n",
              "2012-03-14 00:15:00  50  14/03/2012  00:15             219.115   223.637   \n",
              "2012-03-14 00:30:00  51  14/03/2012  00:30             219.200   225.131   \n",
              "\n",
              "                     Relative_humidity_(dinning-room)  Relative_humidity_room  \\\n",
              "2012-03-14 00:00:00                           41.4320                 43.1573   \n",
              "2012-03-14 00:15:00                           41.0427                 43.1600   \n",
              "2012-03-14 00:30:00                           41.0133                 43.1520   \n",
              "\n",
              "                     Lighting_(dinning-room)  Lighting_room  Meteo_Rain  \\\n",
              "2012-03-14 00:00:00                  11.6053        13.0207         0.0   \n",
              "2012-03-14 00:15:00                  11.6053        13.5413         0.0   \n",
              "2012-03-14 00:30:00                  11.5240        13.1027         0.0   \n",
              "\n",
              "                     Meteo_Sun_dusk  Meteo_Wind  \\\n",
              "2012-03-14 00:00:00           0.650         0.0   \n",
              "2012-03-14 00:15:00           0.650         0.0   \n",
              "2012-03-14 00:30:00           0.738         0.0   \n",
              "\n",
              "                     Meteo_Sun_light_in_west_facade  \\\n",
              "2012-03-14 00:00:00                             0.0   \n",
              "2012-03-14 00:15:00                             0.0   \n",
              "2012-03-14 00:30:00                             0.0   \n",
              "\n",
              "                     Meteo_Sun_light_in_east_facade  \\\n",
              "2012-03-14 00:00:00                             0.0   \n",
              "2012-03-14 00:15:00                             0.0   \n",
              "2012-03-14 00:30:00                             0.0   \n",
              "\n",
              "                     Meteo_Sun_light_in_south_facade  Meteo_Sun_irradiance  \\\n",
              "2012-03-14 00:00:00                              0.0              -3.25067   \n",
              "2012-03-14 00:15:00                              0.0              -3.31600   \n",
              "2012-03-14 00:30:00                              0.0              -3.44667   \n",
              "\n",
              "                     Outdoor_relative_humidity_Sensor  Day_of_the_week  \\\n",
              "2012-03-14 00:00:00                           57.5627          2.06667   \n",
              "2012-03-14 00:15:00                           57.4720          3.00000   \n",
              "2012-03-14 00:30:00                           57.7253          3.00000   \n",
              "\n",
              "                     Indoor_temperature_room  \n",
              "2012-03-14 00:00:00                  19.5260  \n",
              "2012-03-14 00:15:00                  19.3733  \n",
              "2012-03-14 00:30:00                  19.2087  "
            ],
            "text/html": [
              "\n",
              "  <div id=\"df-674580fb-8fc4-4df5-8354-92b49b3f5469\">\n",
              "    <div class=\"colab-df-container\">\n",
              "      <div>\n",
              "<style scoped>\n",
              "    .dataframe tbody tr th:only-of-type {\n",
              "        vertical-align: middle;\n",
              "    }\n",
              "\n",
              "    .dataframe tbody tr th {\n",
              "        vertical-align: top;\n",
              "    }\n",
              "\n",
              "    .dataframe thead th {\n",
              "        text-align: right;\n",
              "    }\n",
              "</style>\n",
              "<table border=\"1\" class=\"dataframe\">\n",
              "  <thead>\n",
              "    <tr style=\"text-align: right;\">\n",
              "      <th></th>\n",
              "      <th>Id</th>\n",
              "      <th>Date</th>\n",
              "      <th>Time</th>\n",
              "      <th>CO2_(dinning-room)</th>\n",
              "      <th>CO2_room</th>\n",
              "      <th>Relative_humidity_(dinning-room)</th>\n",
              "      <th>Relative_humidity_room</th>\n",
              "      <th>Lighting_(dinning-room)</th>\n",
              "      <th>Lighting_room</th>\n",
              "      <th>Meteo_Rain</th>\n",
              "      <th>Meteo_Sun_dusk</th>\n",
              "      <th>Meteo_Wind</th>\n",
              "      <th>Meteo_Sun_light_in_west_facade</th>\n",
              "      <th>Meteo_Sun_light_in_east_facade</th>\n",
              "      <th>Meteo_Sun_light_in_south_facade</th>\n",
              "      <th>Meteo_Sun_irradiance</th>\n",
              "      <th>Outdoor_relative_humidity_Sensor</th>\n",
              "      <th>Day_of_the_week</th>\n",
              "      <th>Indoor_temperature_room</th>\n",
              "    </tr>\n",
              "  </thead>\n",
              "  <tbody>\n",
              "    <tr>\n",
              "      <th>2012-03-14 00:00:00</th>\n",
              "      <td>49</td>\n",
              "      <td>14/03/2012</td>\n",
              "      <td>00:00</td>\n",
              "      <td>217.835</td>\n",
              "      <td>223.381</td>\n",
              "      <td>41.4320</td>\n",
              "      <td>43.1573</td>\n",
              "      <td>11.6053</td>\n",
              "      <td>13.0207</td>\n",
              "      <td>0.0</td>\n",
              "      <td>0.650</td>\n",
              "      <td>0.0</td>\n",
              "      <td>0.0</td>\n",
              "      <td>0.0</td>\n",
              "      <td>0.0</td>\n",
              "      <td>-3.25067</td>\n",
              "      <td>57.5627</td>\n",
              "      <td>2.06667</td>\n",
              "      <td>19.5260</td>\n",
              "    </tr>\n",
              "    <tr>\n",
              "      <th>2012-03-14 00:15:00</th>\n",
              "      <td>50</td>\n",
              "      <td>14/03/2012</td>\n",
              "      <td>00:15</td>\n",
              "      <td>219.115</td>\n",
              "      <td>223.637</td>\n",
              "      <td>41.0427</td>\n",
              "      <td>43.1600</td>\n",
              "      <td>11.6053</td>\n",
              "      <td>13.5413</td>\n",
              "      <td>0.0</td>\n",
              "      <td>0.650</td>\n",
              "      <td>0.0</td>\n",
              "      <td>0.0</td>\n",
              "      <td>0.0</td>\n",
              "      <td>0.0</td>\n",
              "      <td>-3.31600</td>\n",
              "      <td>57.4720</td>\n",
              "      <td>3.00000</td>\n",
              "      <td>19.3733</td>\n",
              "    </tr>\n",
              "    <tr>\n",
              "      <th>2012-03-14 00:30:00</th>\n",
              "      <td>51</td>\n",
              "      <td>14/03/2012</td>\n",
              "      <td>00:30</td>\n",
              "      <td>219.200</td>\n",
              "      <td>225.131</td>\n",
              "      <td>41.0133</td>\n",
              "      <td>43.1520</td>\n",
              "      <td>11.5240</td>\n",
              "      <td>13.1027</td>\n",
              "      <td>0.0</td>\n",
              "      <td>0.738</td>\n",
              "      <td>0.0</td>\n",
              "      <td>0.0</td>\n",
              "      <td>0.0</td>\n",
              "      <td>0.0</td>\n",
              "      <td>-3.44667</td>\n",
              "      <td>57.7253</td>\n",
              "      <td>3.00000</td>\n",
              "      <td>19.2087</td>\n",
              "    </tr>\n",
              "  </tbody>\n",
              "</table>\n",
              "</div>\n",
              "      <button class=\"colab-df-convert\" onclick=\"convertToInteractive('df-674580fb-8fc4-4df5-8354-92b49b3f5469')\"\n",
              "              title=\"Convert this dataframe to an interactive table.\"\n",
              "              style=\"display:none;\">\n",
              "        \n",
              "  <svg xmlns=\"http://www.w3.org/2000/svg\" height=\"24px\"viewBox=\"0 0 24 24\"\n",
              "       width=\"24px\">\n",
              "    <path d=\"M0 0h24v24H0V0z\" fill=\"none\"/>\n",
              "    <path d=\"M18.56 5.44l.94 2.06.94-2.06 2.06-.94-2.06-.94-.94-2.06-.94 2.06-2.06.94zm-11 1L8.5 8.5l.94-2.06 2.06-.94-2.06-.94L8.5 2.5l-.94 2.06-2.06.94zm10 10l.94 2.06.94-2.06 2.06-.94-2.06-.94-.94-2.06-.94 2.06-2.06.94z\"/><path d=\"M17.41 7.96l-1.37-1.37c-.4-.4-.92-.59-1.43-.59-.52 0-1.04.2-1.43.59L10.3 9.45l-7.72 7.72c-.78.78-.78 2.05 0 2.83L4 21.41c.39.39.9.59 1.41.59.51 0 1.02-.2 1.41-.59l7.78-7.78 2.81-2.81c.8-.78.8-2.07 0-2.86zM5.41 20L4 18.59l7.72-7.72 1.47 1.35L5.41 20z\"/>\n",
              "  </svg>\n",
              "      </button>\n",
              "      \n",
              "  <style>\n",
              "    .colab-df-container {\n",
              "      display:flex;\n",
              "      flex-wrap:wrap;\n",
              "      gap: 12px;\n",
              "    }\n",
              "\n",
              "    .colab-df-convert {\n",
              "      background-color: #E8F0FE;\n",
              "      border: none;\n",
              "      border-radius: 50%;\n",
              "      cursor: pointer;\n",
              "      display: none;\n",
              "      fill: #1967D2;\n",
              "      height: 32px;\n",
              "      padding: 0 0 0 0;\n",
              "      width: 32px;\n",
              "    }\n",
              "\n",
              "    .colab-df-convert:hover {\n",
              "      background-color: #E2EBFA;\n",
              "      box-shadow: 0px 1px 2px rgba(60, 64, 67, 0.3), 0px 1px 3px 1px rgba(60, 64, 67, 0.15);\n",
              "      fill: #174EA6;\n",
              "    }\n",
              "\n",
              "    [theme=dark] .colab-df-convert {\n",
              "      background-color: #3B4455;\n",
              "      fill: #D2E3FC;\n",
              "    }\n",
              "\n",
              "    [theme=dark] .colab-df-convert:hover {\n",
              "      background-color: #434B5C;\n",
              "      box-shadow: 0px 1px 3px 1px rgba(0, 0, 0, 0.15);\n",
              "      filter: drop-shadow(0px 1px 2px rgba(0, 0, 0, 0.3));\n",
              "      fill: #FFFFFF;\n",
              "    }\n",
              "  </style>\n",
              "\n",
              "      <script>\n",
              "        const buttonEl =\n",
              "          document.querySelector('#df-674580fb-8fc4-4df5-8354-92b49b3f5469 button.colab-df-convert');\n",
              "        buttonEl.style.display =\n",
              "          google.colab.kernel.accessAllowed ? 'block' : 'none';\n",
              "\n",
              "        async function convertToInteractive(key) {\n",
              "          const element = document.querySelector('#df-674580fb-8fc4-4df5-8354-92b49b3f5469');\n",
              "          const dataTable =\n",
              "            await google.colab.kernel.invokeFunction('convertToInteractive',\n",
              "                                                     [key], {});\n",
              "          if (!dataTable) return;\n",
              "\n",
              "          const docLinkHtml = 'Like what you see? Visit the ' +\n",
              "            '<a target=\"_blank\" href=https://colab.research.google.com/notebooks/data_table.ipynb>data table notebook</a>'\n",
              "            + ' to learn more about interactive tables.';\n",
              "          element.innerHTML = '';\n",
              "          dataTable['output_type'] = 'display_data';\n",
              "          await google.colab.output.renderOutput(dataTable, element);\n",
              "          const docLink = document.createElement('div');\n",
              "          docLink.innerHTML = docLinkHtml;\n",
              "          element.appendChild(docLink);\n",
              "        }\n",
              "      </script>\n",
              "    </div>\n",
              "  </div>\n",
              "  "
            ]
          },
          "metadata": {},
          "execution_count": 10
        }
      ]
    },
    {
      "cell_type": "code",
      "source": [
        "#dividindo a amostra em treino e teste\n",
        "dfTreino = df_treino[df_treino.index < datetime(2012,4,8,0,0)]\n",
        "dfTeste = df_treino[df_treino.index >= datetime(2012,4,8,0,0)]\n",
        "print(dfTreino.shape, dfTeste.shape)\n",
        "print(min(dfTreino.index), max(dfTreino.index))\n",
        "print(min(dfTeste.index), max(dfTeste.index))"
      ],
      "metadata": {
        "id": "KnZihyM_J7XU",
        "outputId": "44b5de41-6ec9-4941-843c-491e44c382af",
        "colab": {
          "base_uri": "https://localhost:8080/"
        }
      },
      "execution_count": 11,
      "outputs": [
        {
          "output_type": "stream",
          "name": "stdout",
          "text": [
            "(2400, 19) (288, 19)\n",
            "2012-03-14 00:00:00 2012-04-07 23:45:00\n",
            "2012-04-08 00:00:00 2012-04-10 23:45:00\n"
          ]
        }
      ]
    },
    {
      "cell_type": "code",
      "source": [
        "#padronizando os valores de 'confirmed' para o dataset de treino e teste - colocando todos os exemplos na mesma escala\n",
        "scaler = MinMaxScaler()\n",
        "scaler.fit(dfTreino[['Indoor_temperature_room']])\n",
        "\n",
        "scaled_train = scaler.transform(dfTreino[['Indoor_temperature_room']])\n",
        "scaled_test = scaler.transform(dfTeste[['Indoor_temperature_room']])\n",
        "\n",
        "plt.hist(scaled_train)\n"
      ],
      "metadata": {
        "id": "UGjO1b7sKrfl",
        "outputId": "9ef944d9-a2a8-4adc-98b4-960de4491b88",
        "colab": {
          "base_uri": "https://localhost:8080/",
          "height": 320
        }
      },
      "execution_count": 12,
      "outputs": [
        {
          "output_type": "execute_result",
          "data": {
            "text/plain": [
              "(array([ 82.,  75., 153., 246., 354., 512., 447., 314., 172.,  45.]),\n",
              " array([0. , 0.1, 0.2, 0.3, 0.4, 0.5, 0.6, 0.7, 0.8, 0.9, 1. ]),\n",
              " <a list of 10 Patch objects>)"
            ]
          },
          "metadata": {},
          "execution_count": 12
        },
        {
          "output_type": "display_data",
          "data": {
            "text/plain": [
              "<Figure size 432x288 with 1 Axes>"
            ],
            "image/png": "[encoded data removed]"
          },
          "metadata": {
            "needs_background": "light"
          }
        }
      ]
    },
    {
      "cell_type": "code",
      "source": [
        "# gerando as entradas para a rede neural - (o gerador)\n",
        "\n",
        "n_input = 96\n",
        "n_features = 1\n",
        "generator = TimeseriesGenerator(scaled_train, scaled_train, length=n_input, batch_size=2)\n",
        "len(generator)"
      ],
      "metadata": {
        "id": "7CD8hsl0LKS4",
        "outputId": "5eb159b5-4609-4c6f-c62e-f564a3508fac",
        "colab": {
          "base_uri": "https://localhost:8080/"
        }
      },
      "execution_count": 13,
      "outputs": [
        {
          "output_type": "execute_result",
          "data": {
            "text/plain": [
              "1152"
            ]
          },
          "metadata": {},
          "execution_count": 13
        }
      ]
    },
    {
      "cell_type": "code",
      "source": [
        "#definindo o modelo e imprimindo a arquitetura\n",
        "model = Sequential()\n",
        "model.add(LSTM(40, activation='relu', input_shape=(n_input, n_features)))\n",
        "model.add(Dense(1))\n",
        "model.compile(optimizer='adam', loss='mse' )\n",
        "model.summary()"
      ],
      "metadata": {
        "id": "23ShP3W5LrvP",
        "outputId": "2fe9157a-098b-4cea-cdb4-12e83e911807",
        "colab": {
          "base_uri": "https://localhost:8080/"
        }
      },
      "execution_count": 14,
      "outputs": [
        {
          "output_type": "stream",
          "name": "stdout",
          "text": [
            "Model: \"sequential\"\n",
            "_________________________________________________________________\n",
            " Layer (type)                Output Shape              Param #   \n",
            "=================================================================\n",
            " lstm (LSTM)                 (None, 40)                6720      \n",
            "                                                                 \n",
            " dense (Dense)               (None, 1)                 41        \n",
            "                                                                 \n",
            "=================================================================\n",
            "Total params: 6,761\n",
            "Trainable params: 6,761\n",
            "Non-trainable params: 0\n",
            "_________________________________________________________________\n"
          ]
        }
      ]
    },
    {
      "cell_type": "code",
      "source": [
        "model.fit(generator,epochs=200)"
      ],
      "metadata": {
        "id": "zdB_c07zLxxt",
        "outputId": "7da3d0e5-5bae-4cd0-eed7-ea3025ab8375",
        "colab": {
          "base_uri": "https://localhost:8080/"
        }
      },
      "execution_count": null,
      "outputs": [
        {
          "output_type": "stream",
          "name": "stdout",
          "text": [
            "Epoch 1/200\n",
            "1152/1152 [==============================] - 33s 27ms/step - loss: 0.0090\n",
            "Epoch 2/200\n",
            "1152/1152 [==============================] - 32s 28ms/step - loss: 3.6919e-04\n",
            "Epoch 3/200\n",
            "1152/1152 [==============================] - 32s 28ms/step - loss: 1.8279e-04\n",
            "Epoch 4/200\n",
            "1152/1152 [==============================] - 34s 30ms/step - loss: 2.1128e-04\n",
            "Epoch 5/200\n",
            "1152/1152 [==============================] - 34s 30ms/step - loss: 1.2191e-04\n",
            "Epoch 6/200\n",
            "1152/1152 [==============================] - 33s 29ms/step - loss: 1.0944e-04\n",
            "Epoch 7/200\n",
            "1152/1152 [==============================] - 32s 28ms/step - loss: 1.1238e-04\n",
            "Epoch 8/200\n",
            "1152/1152 [==============================] - 33s 29ms/step - loss: 8.0494e-05\n",
            "Epoch 9/200\n",
            "1152/1152 [==============================] - 31s 27ms/step - loss: 7.5951e-05\n",
            "Epoch 10/200\n",
            "1152/1152 [==============================] - 31s 27ms/step - loss: 6.2237e-05\n",
            "Epoch 11/200\n",
            "1152/1152 [==============================] - 40s 35ms/step - loss: 7.0934e-05\n",
            "Epoch 12/200\n",
            "1152/1152 [==============================] - 31s 27ms/step - loss: 5.0416e-05\n",
            "Epoch 13/200\n",
            "1152/1152 [==============================] - 41s 35ms/step - loss: 5.2273e-05\n",
            "Epoch 14/200\n",
            "1152/1152 [==============================] - 31s 27ms/step - loss: 4.9380e-05\n",
            "Epoch 15/200\n",
            "1152/1152 [==============================] - 31s 27ms/step - loss: 4.0813e-05\n",
            "Epoch 16/200\n",
            "1152/1152 [==============================] - 35s 30ms/step - loss: 3.5165e-05\n",
            "Epoch 17/200\n",
            " 456/1152 [==========>...................] - ETA: 18s - loss: 2.3716e-05"
          ]
        }
      ]
    },
    {
      "cell_type": "code",
      "source": [
        "#verificando a descida do grandiente com a função loss = mse\n",
        "loss_per_epoch = model.history.history['loss']\n",
        "plt.plot(range(len(loss_per_epoch)),loss_per_epoch)"
      ],
      "metadata": {
        "id": "gH15s9dDNQpv"
      },
      "execution_count": null,
      "outputs": []
    },
    {
      "cell_type": "code",
      "source": [
        "test_predictions = []\n",
        "first_eval_batch = scaled_train[-n_input:]\n",
        "current_batch = first_eval_batch.reshape((1, n_input, n_features))\n",
        "for i in range(scaled_test.shape[0]):\n",
        "  current_pred = model.predict(current_batch)[0]\n",
        "  test_predictions.append(current_pred)\n",
        "  # atualize a rodada para agora incluir a previsão e descartar o primeiro valor\n",
        "  current_batch = np.append(current_batch[:,1:,:],[[current_pred]],axis=1)\n",
        "true_predictions = scaler.inverse_transform(test_predictions)"
      ],
      "metadata": {
        "id": "TA3d2aU2NSq9"
      },
      "execution_count": null,
      "outputs": []
    },
    {
      "cell_type": "code",
      "source": [
        "dfTeste['LSTM'] = true_predictions\n",
        "plotaSeries(dfTreino['confirmed'], dfTeste['confirmed'], dfTeste['LSTM'])"
      ],
      "metadata": {
        "id": "8syLj2O8NlAe"
      },
      "execution_count": null,
      "outputs": []
    }
  ]
}