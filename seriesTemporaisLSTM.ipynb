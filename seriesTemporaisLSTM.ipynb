{
  "nbformat": 4,
  "nbformat_minor": 0,
  "metadata": {
    "colab": {
      "name": "seriesTemporais.ipynb",
      "provenance": [],
      "include_colab_link": true
    },
    "kernelspec": {
      "name": "python3",
      "display_name": "Python 3"
    },
    "language_info": {
      "name": "python"
    },
    "accelerator": "GPU"
  },
  "cells": [
    {
      "cell_type": "markdown",
      "metadata": {
        "id": "view-in-github",
        "colab_type": "text"
      },
      "source": [
        "<a href=\"https://colab.research.google.com/github/HedersonSantos/SmartHome/blob/main/seriesTemporaisLSTM.ipynb\" target=\"_parent\"><img src=\"https://colab.research.google.com/assets/colab-badge.svg\" alt=\"Open In Colab\"/></a>"
      ]
    },
    {
      "cell_type": "code",
      "source": [
        "!pip install pmdarima"
      ],
      "metadata": {
        "colab": {
          "base_uri": "https://localhost:8080/"
        },
        "id": "xwdvs1KvVDQx",
        "outputId": "aa7c8f2e-1497-495e-dd9b-769635d04cee"
      },
      "execution_count": 7,
      "outputs": [
        {
          "output_type": "stream",
          "name": "stdout",
          "text": [
            "Looking in indexes: https://pypi.org/simple, https://us-python.pkg.dev/colab-wheels/public/simple/\n",
            "Requirement already satisfied: pmdarima in /usr/local/lib/python3.7/dist-packages (1.8.5)\n",
            "Requirement already satisfied: numpy>=1.19.3 in /usr/local/lib/python3.7/dist-packages (from pmdarima) (1.21.6)\n",
            "Requirement already satisfied: joblib>=0.11 in /usr/local/lib/python3.7/dist-packages (from pmdarima) (1.1.0)\n",
            "Requirement already satisfied: urllib3 in /usr/local/lib/python3.7/dist-packages (from pmdarima) (1.24.3)\n",
            "Requirement already satisfied: statsmodels!=0.12.0,>=0.11 in /usr/local/lib/python3.7/dist-packages (from pmdarima) (0.13.2)\n",
            "Requirement already satisfied: pandas>=0.19 in /usr/local/lib/python3.7/dist-packages (from pmdarima) (1.3.5)\n",
            "Requirement already satisfied: scipy>=1.3.2 in /usr/local/lib/python3.7/dist-packages (from pmdarima) (1.4.1)\n",
            "Requirement already satisfied: setuptools!=50.0.0,>=38.6.0 in /usr/local/lib/python3.7/dist-packages (from pmdarima) (57.4.0)\n",
            "Requirement already satisfied: Cython!=0.29.18,>=0.29 in /usr/local/lib/python3.7/dist-packages (from pmdarima) (0.29.30)\n",
            "Requirement already satisfied: scikit-learn>=0.22 in /usr/local/lib/python3.7/dist-packages (from pmdarima) (1.0.2)\n",
            "Requirement already satisfied: python-dateutil>=2.7.3 in /usr/local/lib/python3.7/dist-packages (from pandas>=0.19->pmdarima) (2.8.2)\n",
            "Requirement already satisfied: pytz>=2017.3 in /usr/local/lib/python3.7/dist-packages (from pandas>=0.19->pmdarima) (2022.1)\n",
            "Requirement already satisfied: six>=1.5 in /usr/local/lib/python3.7/dist-packages (from python-dateutil>=2.7.3->pandas>=0.19->pmdarima) (1.15.0)\n",
            "Requirement already satisfied: threadpoolctl>=2.0.0 in /usr/local/lib/python3.7/dist-packages (from scikit-learn>=0.22->pmdarima) (3.1.0)\n",
            "Requirement already satisfied: patsy>=0.5.2 in /usr/local/lib/python3.7/dist-packages (from statsmodels!=0.12.0,>=0.11->pmdarima) (0.5.2)\n",
            "Requirement already satisfied: packaging>=21.3 in /usr/local/lib/python3.7/dist-packages (from statsmodels!=0.12.0,>=0.11->pmdarima) (21.3)\n",
            "Requirement already satisfied: pyparsing!=3.0.5,>=2.0.2 in /usr/local/lib/python3.7/dist-packages (from packaging>=21.3->statsmodels!=0.12.0,>=0.11->pmdarima) (3.0.9)\n"
          ]
        }
      ]
    },
    {
      "cell_type": "code",
      "execution_count": 8,
      "metadata": {
        "id": "8fyvFjnLUkWn"
      },
      "outputs": [],
      "source": [
        "import pandas as pd\n",
        "import numpy as np\n",
        "import matplotlib.pyplot as plt\n",
        "%matplotlib inline\n",
        "import seaborn as sns\n",
        "from datetime import datetime\n",
        "pd.set_option('display.max_columns', None)\n",
        "pd.set_option('display.max_rows', None)\n",
        "pd.set_option('max_colwidth', None)\n",
        "\n",
        "\n",
        "from statsmodels.tsa.stattools import acovf, acf, pacf, pacf_yw, pacf_ols\n",
        "from statsmodels.graphics.tsaplots import plot_acf, plot_pacf # para determinar (p,q)\n",
        "from statsmodels.tsa.seasonal import seasonal_decompose\n",
        "from statsmodels.tsa.statespace.tools import diff\n",
        "from statsmodels.tsa.stattools import adfuller\n",
        "\n",
        "from statsmodels.tsa.holtwinters import ExponentialSmoothing\n",
        "from statsmodels.tsa.arima_model import ARIMA\n",
        "from statsmodels.tsa.statespace.sarimax import SARIMAX\n",
        "from statsmodels.tsa.forecasting.theta import ThetaModel\n",
        "\n",
        "from pmdarima.arima.utils import ndiffs\n",
        "from pmdarima import auto_arima\n",
        "\n",
        "\n",
        "from tensorflow.keras.preprocessing.sequence import TimeseriesGenerator\n",
        "from tensorflow.keras.models import Sequential\n",
        "from tensorflow.keras.layers import Dense, BatchNormalization, Dropout\n",
        "from tensorflow.keras.layers import LSTM\n",
        " \n",
        "\n",
        "from sklearn.metrics import mean_squared_error,mean_absolute_error\n",
        "from sklearn.preprocessing import MinMaxScaler\n"
      ]
    },
    {
      "cell_type": "code",
      "source": [
        "!wget https://raw.githubusercontent.com/HedersonSantos/SmartHome/main/train.csv\n",
        "!wget https://raw.githubusercontent.com/HedersonSantos/SmartHome/main/test.csv\n",
        "!wget https://raw.githubusercontent.com/HedersonSantos/SmartHome/main/sample_submission.csv"
      ],
      "metadata": {
        "id": "CQI_GS3AU-pi",
        "colab": {
          "base_uri": "https://localhost:8080/"
        },
        "outputId": "f8bee235-401b-48bb-945e-3a95a4882c6e"
      },
      "execution_count": 9,
      "outputs": [
        {
          "output_type": "stream",
          "name": "stdout",
          "text": [
            "--2022-05-31 17:07:12--  https://raw.githubusercontent.com/HedersonSantos/SmartHome/main/train.csv\n",
            "Resolving raw.githubusercontent.com (raw.githubusercontent.com)... 185.199.109.133, 185.199.111.133, 185.199.110.133, ...\n",
            "Connecting to raw.githubusercontent.com (raw.githubusercontent.com)|185.199.109.133|:443... connected.\n",
            "HTTP request sent, awaiting response... 200 OK\n",
            "Length: 360467 (352K) [text/plain]\n",
            "Saving to: ‘train.csv’\n",
            "\n",
            "\rtrain.csv             0%[                    ]       0  --.-KB/s               \rtrain.csv           100%[===================>] 352.02K  --.-KB/s    in 0.02s   \n",
            "\n",
            "2022-05-31 17:07:12 (15.4 MB/s) - ‘train.csv’ saved [360467/360467]\n",
            "\n",
            "--2022-05-31 17:07:12--  https://raw.githubusercontent.com/HedersonSantos/SmartHome/main/test.csv\n",
            "Resolving raw.githubusercontent.com (raw.githubusercontent.com)... 185.199.108.133, 185.199.109.133, 185.199.110.133, ...\n",
            "Connecting to raw.githubusercontent.com (raw.githubusercontent.com)|185.199.108.133|:443... connected.\n",
            "HTTP request sent, awaiting response... 200 OK\n",
            "Length: 170613 (167K) [text/plain]\n",
            "Saving to: ‘test.csv’\n",
            "\n",
            "test.csv            100%[===================>] 166.61K  --.-KB/s    in 0.02s   \n",
            "\n",
            "2022-05-31 17:07:13 (10.6 MB/s) - ‘test.csv’ saved [170613/170613]\n",
            "\n",
            "--2022-05-31 17:07:13--  https://raw.githubusercontent.com/HedersonSantos/SmartHome/main/sample_submission.csv\n",
            "Resolving raw.githubusercontent.com (raw.githubusercontent.com)... 185.199.109.133, 185.199.111.133, 185.199.108.133, ...\n",
            "Connecting to raw.githubusercontent.com (raw.githubusercontent.com)|185.199.109.133|:443... connected.\n",
            "HTTP request sent, awaiting response... 200 OK\n",
            "Length: 12384 (12K) [text/plain]\n",
            "Saving to: ‘sample_submission.csv’\n",
            "\n",
            "sample_submission.c 100%[===================>]  12.09K  --.-KB/s    in 0s      \n",
            "\n",
            "2022-05-31 17:07:13 (52.6 MB/s) - ‘sample_submission.csv’ saved [12384/12384]\n",
            "\n"
          ]
        }
      ]
    },
    {
      "cell_type": "code",
      "source": [
        "def plotaSeries(treino, teste, predito):\n",
        "  if type(treino) == pd.core.series.Series:\n",
        "    treino.plot(legend=True,label='Treino')\n",
        "  if type(teste) == pd.core.series.Series:\n",
        "    teste.plot(legend=True,label='Teste',figsize=(16,8))\n",
        "  if  type(predito)==pd.core.series.Series:\n",
        "    predito.plot(legend=True) \n",
        "  else:\n",
        "    for p in predito.columns:\n",
        "      predito[p].plot(legend=True)"
      ],
      "metadata": {
        "id": "sgwEsZV5YvUj"
      },
      "execution_count": 10,
      "outputs": []
    },
    {
      "cell_type": "code",
      "source": [
        "df_treino = pd.read_csv('train.csv')\n",
        "df_treino['data_hora'] = df_treino.loc[:,['Date', 'Time']].apply(lambda x: datetime.strptime(x['Date'] + ' ' + x['Time'], '%d/%m/%Y %H:%M'), axis=1)\n",
        "df_treino = df_treino.sort_values(by='data_hora')\n",
        "df_treino = df_treino.set_index('data_hora')\n",
        "#idx = pd.date_range(start=df_treino.index.min(), end=df_treino.index.max(),  freq='0h15min')\n",
        "#df_treino= df_treino.reindex(idx)\n",
        "dfx = df_treino['Indoor_temperature_room'].resample('H').mean().iloc[1: , ]\n",
        "df_treino = pd.DataFrame(dfx, columns = ['Indoor_temperature_room'])\n",
        "df_treino.fillna(method='ffill', inplace=True)"
      ],
      "metadata": {
        "id": "aMdQ7GMtWr8U"
      },
      "execution_count": 11,
      "outputs": []
    },
    {
      "cell_type": "code",
      "source": [
        "df_treino.head(5)"
      ],
      "metadata": {
        "colab": {
          "base_uri": "https://localhost:8080/",
          "height": 237
        },
        "id": "UnrX0UzfzAIQ",
        "outputId": "e0345f9a-a6ab-4fba-b8c1-22590ba6347f"
      },
      "execution_count": 12,
      "outputs": [
        {
          "output_type": "execute_result",
          "data": {
            "text/plain": [
              "                     Indoor_temperature_room\n",
              "data_hora                                   \n",
              "2012-03-13 12:00:00                18.587525\n",
              "2012-03-13 13:00:00                19.628500\n",
              "2012-03-13 14:00:00                20.462000\n",
              "2012-03-13 15:00:00                21.958325\n",
              "2012-03-13 16:00:00                23.076000"
            ],
            "text/html": [
              "\n",
              "  <div id=\"df-995b7770-dd2c-4796-bf3d-ecc6116c83f2\">\n",
              "    <div class=\"colab-df-container\">\n",
              "      <div>\n",
              "<style scoped>\n",
              "    .dataframe tbody tr th:only-of-type {\n",
              "        vertical-align: middle;\n",
              "    }\n",
              "\n",
              "    .dataframe tbody tr th {\n",
              "        vertical-align: top;\n",
              "    }\n",
              "\n",
              "    .dataframe thead th {\n",
              "        text-align: right;\n",
              "    }\n",
              "</style>\n",
              "<table border=\"1\" class=\"dataframe\">\n",
              "  <thead>\n",
              "    <tr style=\"text-align: right;\">\n",
              "      <th></th>\n",
              "      <th>Indoor_temperature_room</th>\n",
              "    </tr>\n",
              "    <tr>\n",
              "      <th>data_hora</th>\n",
              "      <th></th>\n",
              "    </tr>\n",
              "  </thead>\n",
              "  <tbody>\n",
              "    <tr>\n",
              "      <th>2012-03-13 12:00:00</th>\n",
              "      <td>18.587525</td>\n",
              "    </tr>\n",
              "    <tr>\n",
              "      <th>2012-03-13 13:00:00</th>\n",
              "      <td>19.628500</td>\n",
              "    </tr>\n",
              "    <tr>\n",
              "      <th>2012-03-13 14:00:00</th>\n",
              "      <td>20.462000</td>\n",
              "    </tr>\n",
              "    <tr>\n",
              "      <th>2012-03-13 15:00:00</th>\n",
              "      <td>21.958325</td>\n",
              "    </tr>\n",
              "    <tr>\n",
              "      <th>2012-03-13 16:00:00</th>\n",
              "      <td>23.076000</td>\n",
              "    </tr>\n",
              "  </tbody>\n",
              "</table>\n",
              "</div>\n",
              "      <button class=\"colab-df-convert\" onclick=\"convertToInteractive('df-995b7770-dd2c-4796-bf3d-ecc6116c83f2')\"\n",
              "              title=\"Convert this dataframe to an interactive table.\"\n",
              "              style=\"display:none;\">\n",
              "        \n",
              "  <svg xmlns=\"http://www.w3.org/2000/svg\" height=\"24px\"viewBox=\"0 0 24 24\"\n",
              "       width=\"24px\">\n",
              "    <path d=\"M0 0h24v24H0V0z\" fill=\"none\"/>\n",
              "    <path d=\"M18.56 5.44l.94 2.06.94-2.06 2.06-.94-2.06-.94-.94-2.06-.94 2.06-2.06.94zm-11 1L8.5 8.5l.94-2.06 2.06-.94-2.06-.94L8.5 2.5l-.94 2.06-2.06.94zm10 10l.94 2.06.94-2.06 2.06-.94-2.06-.94-.94-2.06-.94 2.06-2.06.94z\"/><path d=\"M17.41 7.96l-1.37-1.37c-.4-.4-.92-.59-1.43-.59-.52 0-1.04.2-1.43.59L10.3 9.45l-7.72 7.72c-.78.78-.78 2.05 0 2.83L4 21.41c.39.39.9.59 1.41.59.51 0 1.02-.2 1.41-.59l7.78-7.78 2.81-2.81c.8-.78.8-2.07 0-2.86zM5.41 20L4 18.59l7.72-7.72 1.47 1.35L5.41 20z\"/>\n",
              "  </svg>\n",
              "      </button>\n",
              "      \n",
              "  <style>\n",
              "    .colab-df-container {\n",
              "      display:flex;\n",
              "      flex-wrap:wrap;\n",
              "      gap: 12px;\n",
              "    }\n",
              "\n",
              "    .colab-df-convert {\n",
              "      background-color: #E8F0FE;\n",
              "      border: none;\n",
              "      border-radius: 50%;\n",
              "      cursor: pointer;\n",
              "      display: none;\n",
              "      fill: #1967D2;\n",
              "      height: 32px;\n",
              "      padding: 0 0 0 0;\n",
              "      width: 32px;\n",
              "    }\n",
              "\n",
              "    .colab-df-convert:hover {\n",
              "      background-color: #E2EBFA;\n",
              "      box-shadow: 0px 1px 2px rgba(60, 64, 67, 0.3), 0px 1px 3px 1px rgba(60, 64, 67, 0.15);\n",
              "      fill: #174EA6;\n",
              "    }\n",
              "\n",
              "    [theme=dark] .colab-df-convert {\n",
              "      background-color: #3B4455;\n",
              "      fill: #D2E3FC;\n",
              "    }\n",
              "\n",
              "    [theme=dark] .colab-df-convert:hover {\n",
              "      background-color: #434B5C;\n",
              "      box-shadow: 0px 1px 3px 1px rgba(0, 0, 0, 0.15);\n",
              "      filter: drop-shadow(0px 1px 2px rgba(0, 0, 0, 0.3));\n",
              "      fill: #FFFFFF;\n",
              "    }\n",
              "  </style>\n",
              "\n",
              "      <script>\n",
              "        const buttonEl =\n",
              "          document.querySelector('#df-995b7770-dd2c-4796-bf3d-ecc6116c83f2 button.colab-df-convert');\n",
              "        buttonEl.style.display =\n",
              "          google.colab.kernel.accessAllowed ? 'block' : 'none';\n",
              "\n",
              "        async function convertToInteractive(key) {\n",
              "          const element = document.querySelector('#df-995b7770-dd2c-4796-bf3d-ecc6116c83f2');\n",
              "          const dataTable =\n",
              "            await google.colab.kernel.invokeFunction('convertToInteractive',\n",
              "                                                     [key], {});\n",
              "          if (!dataTable) return;\n",
              "\n",
              "          const docLinkHtml = 'Like what you see? Visit the ' +\n",
              "            '<a target=\"_blank\" href=https://colab.research.google.com/notebooks/data_table.ipynb>data table notebook</a>'\n",
              "            + ' to learn more about interactive tables.';\n",
              "          element.innerHTML = '';\n",
              "          dataTable['output_type'] = 'display_data';\n",
              "          await google.colab.output.renderOutput(dataTable, element);\n",
              "          const docLink = document.createElement('div');\n",
              "          docLink.innerHTML = docLinkHtml;\n",
              "          element.appendChild(docLink);\n",
              "        }\n",
              "      </script>\n",
              "    </div>\n",
              "  </div>\n",
              "  "
            ]
          },
          "metadata": {},
          "execution_count": 12
        }
      ]
    },
    {
      "cell_type": "code",
      "source": [
        "results = seasonal_decompose(df_treino)\n",
        "results.seasonal[:1000].plot(figsize = (12,8));\n"
      ],
      "metadata": {
        "colab": {
          "base_uri": "https://localhost:8080/",
          "height": 532
        },
        "id": "RalPbIhWriwS",
        "outputId": "3b4ecb99-d5dc-446c-8ba5-f21536765822"
      },
      "execution_count": 13,
      "outputs": [
        {
          "output_type": "display_data",
          "data": {
            "text/plain": [
              "<Figure size 864x576 with 1 Axes>"
            ],
            "image/png": "[encoded data removed]"
          },
          "metadata": {
            "needs_background": "light"
          }
        }
      ]
    },
    {
      "cell_type": "code",
      "source": [
        "plot_acf(df_treino)\n",
        "plt.show();"
      ],
      "metadata": {
        "colab": {
          "base_uri": "https://localhost:8080/",
          "height": 281
        },
        "id": "qxQ9s7c8uI02",
        "outputId": "aa6a6028-771d-41d5-b352-913993b19d8e"
      },
      "execution_count": 14,
      "outputs": [
        {
          "output_type": "display_data",
          "data": {
            "text/plain": [
              "<Figure size 432x288 with 1 Axes>"
            ],
            "image/png": "[encoded data removed]"
          },
          "metadata": {
            "needs_background": "light"
          }
        }
      ]
    },
    {
      "cell_type": "code",
      "source": [
        "min(df_treino.index), max(df_treino.index)"
      ],
      "metadata": {
        "colab": {
          "base_uri": "https://localhost:8080/"
        },
        "id": "jcxBAk-Wa1gh",
        "outputId": "b8db090b-f17c-404c-c9a0-5ef845884a2a"
      },
      "execution_count": 15,
      "outputs": [
        {
          "output_type": "execute_result",
          "data": {
            "text/plain": [
              "(Timestamp('2012-03-13 12:00:00', freq='H'),\n",
              " Timestamp('2012-04-11 06:00:00', freq='H'))"
            ]
          },
          "metadata": {},
          "execution_count": 15
        }
      ]
    },
    {
      "cell_type": "code",
      "source": [
        "dfx = pd.DataFrame(df_treino).reset_index()\n",
        "dfx['data'] =  dfx['data_hora'].apply(lambda x: x.strftime('%Y-%m-%d'))"
      ],
      "metadata": {
        "id": "J5JoQsg_ufLJ"
      },
      "execution_count": 16,
      "outputs": []
    },
    {
      "cell_type": "code",
      "source": [
        "dfx.groupby('data')['data_hora'].count().reset_index().sort_values('data')"
      ],
      "metadata": {
        "id": "v9KXFG7Nlx7t",
        "outputId": "dc8f069f-dd00-4d03-b703-47275473d054",
        "colab": {
          "base_uri": "https://localhost:8080/",
          "height": 989
        }
      },
      "execution_count": 17,
      "outputs": [
        {
          "output_type": "execute_result",
          "data": {
            "text/plain": [
              "          data  data_hora\n",
              "0   2012-03-13         12\n",
              "1   2012-03-14         24\n",
              "2   2012-03-15         24\n",
              "3   2012-03-16         24\n",
              "4   2012-03-17         24\n",
              "5   2012-03-18         24\n",
              "6   2012-03-19         24\n",
              "7   2012-03-20         24\n",
              "8   2012-03-21         24\n",
              "9   2012-03-22         24\n",
              "10  2012-03-23         24\n",
              "11  2012-03-24         24\n",
              "12  2012-03-25         24\n",
              "13  2012-03-26         24\n",
              "14  2012-03-27         24\n",
              "15  2012-03-28         24\n",
              "16  2012-03-29         24\n",
              "17  2012-03-30         24\n",
              "18  2012-03-31         24\n",
              "19  2012-04-01         24\n",
              "20  2012-04-02         24\n",
              "21  2012-04-03         24\n",
              "22  2012-04-04         24\n",
              "23  2012-04-05         24\n",
              "24  2012-04-06         24\n",
              "25  2012-04-07         24\n",
              "26  2012-04-08         24\n",
              "27  2012-04-09         24\n",
              "28  2012-04-10         24\n",
              "29  2012-04-11          7"
            ],
            "text/html": [
              "\n",
              "  <div id=\"df-f88afcae-bb2f-4d1e-8606-971977e35064\">\n",
              "    <div class=\"colab-df-container\">\n",
              "      <div>\n",
              "<style scoped>\n",
              "    .dataframe tbody tr th:only-of-type {\n",
              "        vertical-align: middle;\n",
              "    }\n",
              "\n",
              "    .dataframe tbody tr th {\n",
              "        vertical-align: top;\n",
              "    }\n",
              "\n",
              "    .dataframe thead th {\n",
              "        text-align: right;\n",
              "    }\n",
              "</style>\n",
              "<table border=\"1\" class=\"dataframe\">\n",
              "  <thead>\n",
              "    <tr style=\"text-align: right;\">\n",
              "      <th></th>\n",
              "      <th>data</th>\n",
              "      <th>data_hora</th>\n",
              "    </tr>\n",
              "  </thead>\n",
              "  <tbody>\n",
              "    <tr>\n",
              "      <th>0</th>\n",
              "      <td>2012-03-13</td>\n",
              "      <td>12</td>\n",
              "    </tr>\n",
              "    <tr>\n",
              "      <th>1</th>\n",
              "      <td>2012-03-14</td>\n",
              "      <td>24</td>\n",
              "    </tr>\n",
              "    <tr>\n",
              "      <th>2</th>\n",
              "      <td>2012-03-15</td>\n",
              "      <td>24</td>\n",
              "    </tr>\n",
              "    <tr>\n",
              "      <th>3</th>\n",
              "      <td>2012-03-16</td>\n",
              "      <td>24</td>\n",
              "    </tr>\n",
              "    <tr>\n",
              "      <th>4</th>\n",
              "      <td>2012-03-17</td>\n",
              "      <td>24</td>\n",
              "    </tr>\n",
              "    <tr>\n",
              "      <th>5</th>\n",
              "      <td>2012-03-18</td>\n",
              "      <td>24</td>\n",
              "    </tr>\n",
              "    <tr>\n",
              "      <th>6</th>\n",
              "      <td>2012-03-19</td>\n",
              "      <td>24</td>\n",
              "    </tr>\n",
              "    <tr>\n",
              "      <th>7</th>\n",
              "      <td>2012-03-20</td>\n",
              "      <td>24</td>\n",
              "    </tr>\n",
              "    <tr>\n",
              "      <th>8</th>\n",
              "      <td>2012-03-21</td>\n",
              "      <td>24</td>\n",
              "    </tr>\n",
              "    <tr>\n",
              "      <th>9</th>\n",
              "      <td>2012-03-22</td>\n",
              "      <td>24</td>\n",
              "    </tr>\n",
              "    <tr>\n",
              "      <th>10</th>\n",
              "      <td>2012-03-23</td>\n",
              "      <td>24</td>\n",
              "    </tr>\n",
              "    <tr>\n",
              "      <th>11</th>\n",
              "      <td>2012-03-24</td>\n",
              "      <td>24</td>\n",
              "    </tr>\n",
              "    <tr>\n",
              "      <th>12</th>\n",
              "      <td>2012-03-25</td>\n",
              "      <td>24</td>\n",
              "    </tr>\n",
              "    <tr>\n",
              "      <th>13</th>\n",
              "      <td>2012-03-26</td>\n",
              "      <td>24</td>\n",
              "    </tr>\n",
              "    <tr>\n",
              "      <th>14</th>\n",
              "      <td>2012-03-27</td>\n",
              "      <td>24</td>\n",
              "    </tr>\n",
              "    <tr>\n",
              "      <th>15</th>\n",
              "      <td>2012-03-28</td>\n",
              "      <td>24</td>\n",
              "    </tr>\n",
              "    <tr>\n",
              "      <th>16</th>\n",
              "      <td>2012-03-29</td>\n",
              "      <td>24</td>\n",
              "    </tr>\n",
              "    <tr>\n",
              "      <th>17</th>\n",
              "      <td>2012-03-30</td>\n",
              "      <td>24</td>\n",
              "    </tr>\n",
              "    <tr>\n",
              "      <th>18</th>\n",
              "      <td>2012-03-31</td>\n",
              "      <td>24</td>\n",
              "    </tr>\n",
              "    <tr>\n",
              "      <th>19</th>\n",
              "      <td>2012-04-01</td>\n",
              "      <td>24</td>\n",
              "    </tr>\n",
              "    <tr>\n",
              "      <th>20</th>\n",
              "      <td>2012-04-02</td>\n",
              "      <td>24</td>\n",
              "    </tr>\n",
              "    <tr>\n",
              "      <th>21</th>\n",
              "      <td>2012-04-03</td>\n",
              "      <td>24</td>\n",
              "    </tr>\n",
              "    <tr>\n",
              "      <th>22</th>\n",
              "      <td>2012-04-04</td>\n",
              "      <td>24</td>\n",
              "    </tr>\n",
              "    <tr>\n",
              "      <th>23</th>\n",
              "      <td>2012-04-05</td>\n",
              "      <td>24</td>\n",
              "    </tr>\n",
              "    <tr>\n",
              "      <th>24</th>\n",
              "      <td>2012-04-06</td>\n",
              "      <td>24</td>\n",
              "    </tr>\n",
              "    <tr>\n",
              "      <th>25</th>\n",
              "      <td>2012-04-07</td>\n",
              "      <td>24</td>\n",
              "    </tr>\n",
              "    <tr>\n",
              "      <th>26</th>\n",
              "      <td>2012-04-08</td>\n",
              "      <td>24</td>\n",
              "    </tr>\n",
              "    <tr>\n",
              "      <th>27</th>\n",
              "      <td>2012-04-09</td>\n",
              "      <td>24</td>\n",
              "    </tr>\n",
              "    <tr>\n",
              "      <th>28</th>\n",
              "      <td>2012-04-10</td>\n",
              "      <td>24</td>\n",
              "    </tr>\n",
              "    <tr>\n",
              "      <th>29</th>\n",
              "      <td>2012-04-11</td>\n",
              "      <td>7</td>\n",
              "    </tr>\n",
              "  </tbody>\n",
              "</table>\n",
              "</div>\n",
              "      <button class=\"colab-df-convert\" onclick=\"convertToInteractive('df-f88afcae-bb2f-4d1e-8606-971977e35064')\"\n",
              "              title=\"Convert this dataframe to an interactive table.\"\n",
              "              style=\"display:none;\">\n",
              "        \n",
              "  <svg xmlns=\"http://www.w3.org/2000/svg\" height=\"24px\"viewBox=\"0 0 24 24\"\n",
              "       width=\"24px\">\n",
              "    <path d=\"M0 0h24v24H0V0z\" fill=\"none\"/>\n",
              "    <path d=\"M18.56 5.44l.94 2.06.94-2.06 2.06-.94-2.06-.94-.94-2.06-.94 2.06-2.06.94zm-11 1L8.5 8.5l.94-2.06 2.06-.94-2.06-.94L8.5 2.5l-.94 2.06-2.06.94zm10 10l.94 2.06.94-2.06 2.06-.94-2.06-.94-.94-2.06-.94 2.06-2.06.94z\"/><path d=\"M17.41 7.96l-1.37-1.37c-.4-.4-.92-.59-1.43-.59-.52 0-1.04.2-1.43.59L10.3 9.45l-7.72 7.72c-.78.78-.78 2.05 0 2.83L4 21.41c.39.39.9.59 1.41.59.51 0 1.02-.2 1.41-.59l7.78-7.78 2.81-2.81c.8-.78.8-2.07 0-2.86zM5.41 20L4 18.59l7.72-7.72 1.47 1.35L5.41 20z\"/>\n",
              "  </svg>\n",
              "      </button>\n",
              "      \n",
              "  <style>\n",
              "    .colab-df-container {\n",
              "      display:flex;\n",
              "      flex-wrap:wrap;\n",
              "      gap: 12px;\n",
              "    }\n",
              "\n",
              "    .colab-df-convert {\n",
              "      background-color: #E8F0FE;\n",
              "      border: none;\n",
              "      border-radius: 50%;\n",
              "      cursor: pointer;\n",
              "      display: none;\n",
              "      fill: #1967D2;\n",
              "      height: 32px;\n",
              "      padding: 0 0 0 0;\n",
              "      width: 32px;\n",
              "    }\n",
              "\n",
              "    .colab-df-convert:hover {\n",
              "      background-color: #E2EBFA;\n",
              "      box-shadow: 0px 1px 2px rgba(60, 64, 67, 0.3), 0px 1px 3px 1px rgba(60, 64, 67, 0.15);\n",
              "      fill: #174EA6;\n",
              "    }\n",
              "\n",
              "    [theme=dark] .colab-df-convert {\n",
              "      background-color: #3B4455;\n",
              "      fill: #D2E3FC;\n",
              "    }\n",
              "\n",
              "    [theme=dark] .colab-df-convert:hover {\n",
              "      background-color: #434B5C;\n",
              "      box-shadow: 0px 1px 3px 1px rgba(0, 0, 0, 0.15);\n",
              "      filter: drop-shadow(0px 1px 2px rgba(0, 0, 0, 0.3));\n",
              "      fill: #FFFFFF;\n",
              "    }\n",
              "  </style>\n",
              "\n",
              "      <script>\n",
              "        const buttonEl =\n",
              "          document.querySelector('#df-f88afcae-bb2f-4d1e-8606-971977e35064 button.colab-df-convert');\n",
              "        buttonEl.style.display =\n",
              "          google.colab.kernel.accessAllowed ? 'block' : 'none';\n",
              "\n",
              "        async function convertToInteractive(key) {\n",
              "          const element = document.querySelector('#df-f88afcae-bb2f-4d1e-8606-971977e35064');\n",
              "          const dataTable =\n",
              "            await google.colab.kernel.invokeFunction('convertToInteractive',\n",
              "                                                     [key], {});\n",
              "          if (!dataTable) return;\n",
              "\n",
              "          const docLinkHtml = 'Like what you see? Visit the ' +\n",
              "            '<a target=\"_blank\" href=https://colab.research.google.com/notebooks/data_table.ipynb>data table notebook</a>'\n",
              "            + ' to learn more about interactive tables.';\n",
              "          element.innerHTML = '';\n",
              "          dataTable['output_type'] = 'display_data';\n",
              "          await google.colab.output.renderOutput(dataTable, element);\n",
              "          const docLink = document.createElement('div');\n",
              "          docLink.innerHTML = docLinkHtml;\n",
              "          element.appendChild(docLink);\n",
              "        }\n",
              "      </script>\n",
              "    </div>\n",
              "  </div>\n",
              "  "
            ]
          },
          "metadata": {},
          "execution_count": 17
        }
      ]
    },
    {
      "cell_type": "code",
      "source": [
        "dfx.columns"
      ],
      "metadata": {
        "colab": {
          "base_uri": "https://localhost:8080/"
        },
        "id": "OWLNG5R1w_rk",
        "outputId": "b961f228-84dd-4164-d1f1-e63ac73464c8"
      },
      "execution_count": 18,
      "outputs": [
        {
          "output_type": "execute_result",
          "data": {
            "text/plain": [
              "Index(['data_hora', 'Indoor_temperature_room', 'data'], dtype='object')"
            ]
          },
          "metadata": {},
          "execution_count": 18
        }
      ]
    },
    {
      "cell_type": "code",
      "source": [
        "df_treino = df_treino[df_treino.index.strftime('%Y-%m-%d') !=\"13/03/2012\"]\n",
        "df_treino = df_treino[df_treino.index.strftime('%Y-%m-%d') !=\"11/04/2012\"]"
      ],
      "metadata": {
        "id": "YSzSHpdOl7Ha"
      },
      "execution_count": 19,
      "outputs": []
    },
    {
      "cell_type": "code",
      "source": [
        "df_treino.head(5)"
      ],
      "metadata": {
        "id": "8n_1Ed3EnUJE",
        "outputId": "c104f81b-f378-41c0-f541-474e611e9326",
        "colab": {
          "base_uri": "https://localhost:8080/",
          "height": 237
        }
      },
      "execution_count": 20,
      "outputs": [
        {
          "output_type": "execute_result",
          "data": {
            "text/plain": [
              "                     Indoor_temperature_room\n",
              "data_hora                                   \n",
              "2012-03-13 12:00:00                18.587525\n",
              "2012-03-13 13:00:00                19.628500\n",
              "2012-03-13 14:00:00                20.462000\n",
              "2012-03-13 15:00:00                21.958325\n",
              "2012-03-13 16:00:00                23.076000"
            ],
            "text/html": [
              "\n",
              "  <div id=\"df-7c1e6035-bc4b-4e2f-a1fe-6a82c510825d\">\n",
              "    <div class=\"colab-df-container\">\n",
              "      <div>\n",
              "<style scoped>\n",
              "    .dataframe tbody tr th:only-of-type {\n",
              "        vertical-align: middle;\n",
              "    }\n",
              "\n",
              "    .dataframe tbody tr th {\n",
              "        vertical-align: top;\n",
              "    }\n",
              "\n",
              "    .dataframe thead th {\n",
              "        text-align: right;\n",
              "    }\n",
              "</style>\n",
              "<table border=\"1\" class=\"dataframe\">\n",
              "  <thead>\n",
              "    <tr style=\"text-align: right;\">\n",
              "      <th></th>\n",
              "      <th>Indoor_temperature_room</th>\n",
              "    </tr>\n",
              "    <tr>\n",
              "      <th>data_hora</th>\n",
              "      <th></th>\n",
              "    </tr>\n",
              "  </thead>\n",
              "  <tbody>\n",
              "    <tr>\n",
              "      <th>2012-03-13 12:00:00</th>\n",
              "      <td>18.587525</td>\n",
              "    </tr>\n",
              "    <tr>\n",
              "      <th>2012-03-13 13:00:00</th>\n",
              "      <td>19.628500</td>\n",
              "    </tr>\n",
              "    <tr>\n",
              "      <th>2012-03-13 14:00:00</th>\n",
              "      <td>20.462000</td>\n",
              "    </tr>\n",
              "    <tr>\n",
              "      <th>2012-03-13 15:00:00</th>\n",
              "      <td>21.958325</td>\n",
              "    </tr>\n",
              "    <tr>\n",
              "      <th>2012-03-13 16:00:00</th>\n",
              "      <td>23.076000</td>\n",
              "    </tr>\n",
              "  </tbody>\n",
              "</table>\n",
              "</div>\n",
              "      <button class=\"colab-df-convert\" onclick=\"convertToInteractive('df-7c1e6035-bc4b-4e2f-a1fe-6a82c510825d')\"\n",
              "              title=\"Convert this dataframe to an interactive table.\"\n",
              "              style=\"display:none;\">\n",
              "        \n",
              "  <svg xmlns=\"http://www.w3.org/2000/svg\" height=\"24px\"viewBox=\"0 0 24 24\"\n",
              "       width=\"24px\">\n",
              "    <path d=\"M0 0h24v24H0V0z\" fill=\"none\"/>\n",
              "    <path d=\"M18.56 5.44l.94 2.06.94-2.06 2.06-.94-2.06-.94-.94-2.06-.94 2.06-2.06.94zm-11 1L8.5 8.5l.94-2.06 2.06-.94-2.06-.94L8.5 2.5l-.94 2.06-2.06.94zm10 10l.94 2.06.94-2.06 2.06-.94-2.06-.94-.94-2.06-.94 2.06-2.06.94z\"/><path d=\"M17.41 7.96l-1.37-1.37c-.4-.4-.92-.59-1.43-.59-.52 0-1.04.2-1.43.59L10.3 9.45l-7.72 7.72c-.78.78-.78 2.05 0 2.83L4 21.41c.39.39.9.59 1.41.59.51 0 1.02-.2 1.41-.59l7.78-7.78 2.81-2.81c.8-.78.8-2.07 0-2.86zM5.41 20L4 18.59l7.72-7.72 1.47 1.35L5.41 20z\"/>\n",
              "  </svg>\n",
              "      </button>\n",
              "      \n",
              "  <style>\n",
              "    .colab-df-container {\n",
              "      display:flex;\n",
              "      flex-wrap:wrap;\n",
              "      gap: 12px;\n",
              "    }\n",
              "\n",
              "    .colab-df-convert {\n",
              "      background-color: #E8F0FE;\n",
              "      border: none;\n",
              "      border-radius: 50%;\n",
              "      cursor: pointer;\n",
              "      display: none;\n",
              "      fill: #1967D2;\n",
              "      height: 32px;\n",
              "      padding: 0 0 0 0;\n",
              "      width: 32px;\n",
              "    }\n",
              "\n",
              "    .colab-df-convert:hover {\n",
              "      background-color: #E2EBFA;\n",
              "      box-shadow: 0px 1px 2px rgba(60, 64, 67, 0.3), 0px 1px 3px 1px rgba(60, 64, 67, 0.15);\n",
              "      fill: #174EA6;\n",
              "    }\n",
              "\n",
              "    [theme=dark] .colab-df-convert {\n",
              "      background-color: #3B4455;\n",
              "      fill: #D2E3FC;\n",
              "    }\n",
              "\n",
              "    [theme=dark] .colab-df-convert:hover {\n",
              "      background-color: #434B5C;\n",
              "      box-shadow: 0px 1px 3px 1px rgba(0, 0, 0, 0.15);\n",
              "      filter: drop-shadow(0px 1px 2px rgba(0, 0, 0, 0.3));\n",
              "      fill: #FFFFFF;\n",
              "    }\n",
              "  </style>\n",
              "\n",
              "      <script>\n",
              "        const buttonEl =\n",
              "          document.querySelector('#df-7c1e6035-bc4b-4e2f-a1fe-6a82c510825d button.colab-df-convert');\n",
              "        buttonEl.style.display =\n",
              "          google.colab.kernel.accessAllowed ? 'block' : 'none';\n",
              "\n",
              "        async function convertToInteractive(key) {\n",
              "          const element = document.querySelector('#df-7c1e6035-bc4b-4e2f-a1fe-6a82c510825d');\n",
              "          const dataTable =\n",
              "            await google.colab.kernel.invokeFunction('convertToInteractive',\n",
              "                                                     [key], {});\n",
              "          if (!dataTable) return;\n",
              "\n",
              "          const docLinkHtml = 'Like what you see? Visit the ' +\n",
              "            '<a target=\"_blank\" href=https://colab.research.google.com/notebooks/data_table.ipynb>data table notebook</a>'\n",
              "            + ' to learn more about interactive tables.';\n",
              "          element.innerHTML = '';\n",
              "          dataTable['output_type'] = 'display_data';\n",
              "          await google.colab.output.renderOutput(dataTable, element);\n",
              "          const docLink = document.createElement('div');\n",
              "          docLink.innerHTML = docLinkHtml;\n",
              "          element.appendChild(docLink);\n",
              "        }\n",
              "      </script>\n",
              "    </div>\n",
              "  </div>\n",
              "  "
            ]
          },
          "metadata": {},
          "execution_count": 20
        }
      ]
    },
    {
      "cell_type": "code",
      "source": [
        "#dividindo a amostra em treino e teste\n",
        "dfTreino = df_treino[df_treino.index < datetime(2012,4,8,0,0)]\n",
        "dfTeste = df_treino[df_treino.index >= datetime(2012,4,8,0,0)]\n",
        "print(dfTreino.shape, dfTeste.shape)\n",
        "print(min(dfTreino.index), max(dfTreino.index))\n",
        "print(min(dfTeste.index), max(dfTeste.index))"
      ],
      "metadata": {
        "colab": {
          "base_uri": "https://localhost:8080/"
        },
        "id": "KnZihyM_J7XU",
        "outputId": "6d473e5c-0415-4114-f12a-85af0d993482"
      },
      "execution_count": 21,
      "outputs": [
        {
          "output_type": "stream",
          "name": "stdout",
          "text": [
            "(612, 1) (79, 1)\n",
            "2012-03-13 12:00:00 2012-04-07 23:00:00\n",
            "2012-04-08 00:00:00 2012-04-11 06:00:00\n"
          ]
        }
      ]
    },
    {
      "cell_type": "code",
      "source": [
        "#padronizando os valores de 'confirmed' para o dataset de treino e teste - colocando todos os exemplos na mesma escala\n",
        "scaler = MinMaxScaler()\n",
        "scaler.fit(dfTreino)\n",
        "\n",
        "scaled_train = scaler.transform(dfTreino)\n",
        "scaled_test = scaler.transform(dfTeste)\n",
        "scaled_all = scaler.transform(df_treino)\n",
        "plt.hist(scaled_train)\n"
      ],
      "metadata": {
        "colab": {
          "base_uri": "https://localhost:8080/",
          "height": 320
        },
        "id": "UGjO1b7sKrfl",
        "outputId": "18184c74-3c82-4b74-d5a6-04134bbe325e"
      },
      "execution_count": 22,
      "outputs": [
        {
          "output_type": "execute_result",
          "data": {
            "text/plain": [
              "(array([ 22.,  18.,  37.,  64.,  85., 127., 119.,  82.,  44.,  14.]),\n",
              " array([0. , 0.1, 0.2, 0.3, 0.4, 0.5, 0.6, 0.7, 0.8, 0.9, 1. ]),\n",
              " <a list of 10 Patch objects>)"
            ]
          },
          "metadata": {},
          "execution_count": 22
        },
        {
          "output_type": "display_data",
          "data": {
            "text/plain": [
              "<Figure size 432x288 with 1 Axes>"
            ],
            "image/png": "[encoded data removed]"
          },
          "metadata": {
            "needs_background": "light"
          }
        }
      ]
    },
    {
      "cell_type": "code",
      "source": [
        "#definindo o modelo e imprimindo a arquitetura\n",
        "def modelo(n_input, n_features):\n",
        "  model = Sequential()\n",
        "  model.add(LSTM(400, activation='relu', input_shape=(n_input, n_features)))\n",
        "  #model.add(BatchNormalization())\n",
        "  #model.add(Dropout(0.5))\n",
        "  model.add(Dense(1))\n",
        "  model.compile(optimizer='adam', loss='mse' )\n",
        "  model.summary()\n",
        "  return model"
      ],
      "metadata": {
        "id": "23ShP3W5LrvP"
      },
      "execution_count": 23,
      "outputs": []
    },
    {
      "cell_type": "code",
      "source": [
        "# gerando as entradas para a rede neural - (o gerador)\n",
        "\n",
        "n_input = 48\n",
        "n_features = 1\n",
        "generator = TimeseriesGenerator(scaled_train, scaled_train, length=n_input, batch_size=2)\n",
        "len(generator)\n",
        "model = modelo(n_input, n_features)"
      ],
      "metadata": {
        "colab": {
          "base_uri": "https://localhost:8080/"
        },
        "id": "7CD8hsl0LKS4",
        "outputId": "b7c9a50a-ef05-4375-97b8-5247ded9f564"
      },
      "execution_count": 24,
      "outputs": [
        {
          "output_type": "stream",
          "name": "stdout",
          "text": [
            "WARNING:tensorflow:Layer lstm will not use cuDNN kernels since it doesn't meet the criteria. It will use a generic GPU kernel as fallback when running on GPU.\n",
            "Model: \"sequential\"\n",
            "_________________________________________________________________\n",
            " Layer (type)                Output Shape              Param #   \n",
            "=================================================================\n",
            " lstm (LSTM)                 (None, 400)               643200    \n",
            "                                                                 \n",
            " dense (Dense)               (None, 1)                 401       \n",
            "                                                                 \n",
            "=================================================================\n",
            "Total params: 643,601\n",
            "Trainable params: 643,601\n",
            "Non-trainable params: 0\n",
            "_________________________________________________________________\n"
          ]
        }
      ]
    },
    {
      "cell_type": "code",
      "source": [
        "model.fit(generator,epochs=10)"
      ],
      "metadata": {
        "colab": {
          "base_uri": "https://localhost:8080/"
        },
        "id": "zdB_c07zLxxt",
        "outputId": "148fc155-3af1-4271-b0ca-d35dbd129401"
      },
      "execution_count": 25,
      "outputs": [
        {
          "output_type": "stream",
          "name": "stdout",
          "text": [
            "Epoch 1/10\n",
            "282/282 [==============================] - 50s 153ms/step - loss: 0.0289\n",
            "Epoch 2/10\n",
            "282/282 [==============================] - 22s 79ms/step - loss: 0.0155\n",
            "Epoch 3/10\n",
            "282/282 [==============================] - 29s 104ms/step - loss: 0.0089\n",
            "Epoch 4/10\n",
            "282/282 [==============================] - 32s 114ms/step - loss: 0.0054\n",
            "Epoch 5/10\n",
            "282/282 [==============================] - 22s 79ms/step - loss: 0.0037\n",
            "Epoch 6/10\n",
            "282/282 [==============================] - 22s 78ms/step - loss: 0.0026\n",
            "Epoch 7/10\n",
            "282/282 [==============================] - 22s 78ms/step - loss: 0.0020\n",
            "Epoch 8/10\n",
            "282/282 [==============================] - 22s 78ms/step - loss: 0.0015\n",
            "Epoch 9/10\n",
            "282/282 [==============================] - 23s 83ms/step - loss: 0.0012\n",
            "Epoch 10/10\n",
            "282/282 [==============================] - 22s 77ms/step - loss: 0.0010\n"
          ]
        },
        {
          "output_type": "execute_result",
          "data": {
            "text/plain": [
              "<keras.callbacks.History at 0x7fc06b284910>"
            ]
          },
          "metadata": {},
          "execution_count": 25
        }
      ]
    },
    {
      "cell_type": "code",
      "source": [
        "#verificando a descida do grandiente com a função loss = mse\n",
        "loss_per_epoch = model.history.history['loss']\n",
        "plt.plot(range(len(loss_per_epoch)),loss_per_epoch)"
      ],
      "metadata": {
        "colab": {
          "base_uri": "https://localhost:8080/",
          "height": 285
        },
        "id": "gH15s9dDNQpv",
        "outputId": "715004e7-de7a-43a2-be5d-ee7ef59b7135"
      },
      "execution_count": 26,
      "outputs": [
        {
          "output_type": "execute_result",
          "data": {
            "text/plain": [
              "[<matplotlib.lines.Line2D at 0x7fc0500e2e10>]"
            ]
          },
          "metadata": {},
          "execution_count": 26
        },
        {
          "output_type": "display_data",
          "data": {
            "text/plain": [
              "<Figure size 432x288 with 1 Axes>"
            ],
            "image/png": "[encoded data removed]"
          },
          "metadata": {
            "needs_background": "light"
          }
        }
      ]
    },
    {
      "cell_type": "code",
      "source": [
        "test_predictions = []\n",
        "first_eval_batch = scaled_train[-n_input:]\n",
        "current_batch = first_eval_batch.reshape((1, n_input, n_features))\n",
        "for i in range(scaled_test.shape[0]):\n",
        "  current_pred = model.predict(current_batch)[0]\n",
        "  test_predictions.append(current_pred)\n",
        "  # atualize a rodada para agora incluir a previsão e descartar o primeiro valor\n",
        "  current_batch = np.append(current_batch[:,1:,:],[[current_pred]],axis=1)\n",
        "true_predictions = scaler.inverse_transform(test_predictions)"
      ],
      "metadata": {
        "id": "TA3d2aU2NSq9"
      },
      "execution_count": 27,
      "outputs": []
    },
    {
      "cell_type": "code",
      "source": [
        "dfTeste['LSTM'] = true_predictions\n",
        "plotaSeries(dfTreino['Indoor_temperature_room'], dfTeste['Indoor_temperature_room'], dfTeste['LSTM'])"
      ],
      "metadata": {
        "id": "8syLj2O8NlAe",
        "colab": {
          "base_uri": "https://localhost:8080/",
          "height": 642
        },
        "outputId": "e4a71a1b-4d55-4389-f388-af3e8a3558de"
      },
      "execution_count": 28,
      "outputs": [
        {
          "output_type": "stream",
          "name": "stderr",
          "text": [
            "/usr/local/lib/python3.7/dist-packages/ipykernel_launcher.py:1: SettingWithCopyWarning: \n",
            "A value is trying to be set on a copy of a slice from a DataFrame.\n",
            "Try using .loc[row_indexer,col_indexer] = value instead\n",
            "\n",
            "See the caveats in the documentation: https://pandas.pydata.org/pandas-docs/stable/user_guide/indexing.html#returning-a-view-versus-a-copy\n",
            "  \"\"\"Entry point for launching an IPython kernel.\n"
          ]
        },
        {
          "output_type": "display_data",
          "data": {
            "text/plain": [
              "<Figure size 1152x576 with 1 Axes>"
            ],
            "image/png": "[encoded data removed]"
          },
          "metadata": {
            "needs_background": "light"
          }
        }
      ]
    },
    {
      "cell_type": "code",
      "source": [
        "n_input = 48\n",
        "n_features = 1\n",
        "generatorB = TimeseriesGenerator(scaled_all, scaled_all, length=n_input, batch_size=2)\n",
        "len(generatorB)\n",
        "modelB = modelo(n_input, n_features)"
      ],
      "metadata": {
        "colab": {
          "base_uri": "https://localhost:8080/"
        },
        "id": "kO3YM87BzCE6",
        "outputId": "c90db9b1-f172-43f0-e972-8c7287608211"
      },
      "execution_count": 29,
      "outputs": [
        {
          "output_type": "stream",
          "name": "stdout",
          "text": [
            "WARNING:tensorflow:Layer lstm_1 will not use cuDNN kernels since it doesn't meet the criteria. It will use a generic GPU kernel as fallback when running on GPU.\n",
            "Model: \"sequential_1\"\n",
            "_________________________________________________________________\n",
            " Layer (type)                Output Shape              Param #   \n",
            "=================================================================\n",
            " lstm_1 (LSTM)               (None, 400)               643200    \n",
            "                                                                 \n",
            " dense_1 (Dense)             (None, 1)                 401       \n",
            "                                                                 \n",
            "=================================================================\n",
            "Total params: 643,601\n",
            "Trainable params: 643,601\n",
            "Non-trainable params: 0\n",
            "_________________________________________________________________\n"
          ]
        }
      ]
    },
    {
      "cell_type": "code",
      "source": [
        "modelB.fit(generatorB,epochs=10)\n",
        "loss_per_epoch = modelB.history.history['loss']\n",
        "plt.plot(range(len(loss_per_epoch)),loss_per_epoch)"
      ],
      "metadata": {
        "colab": {
          "base_uri": "https://localhost:8080/",
          "height": 648
        },
        "id": "bIwOaq0dzOqk",
        "outputId": "57c2fd7a-eb16-47dd-c293-11bf1a23bccd"
      },
      "execution_count": 30,
      "outputs": [
        {
          "output_type": "stream",
          "name": "stdout",
          "text": [
            "Epoch 1/10\n",
            "322/322 [==============================] - 27s 80ms/step - loss: 0.0259\n",
            "Epoch 2/10\n",
            "322/322 [==============================] - 25s 77ms/step - loss: 0.0084\n",
            "Epoch 3/10\n",
            "322/322 [==============================] - 26s 79ms/step - loss: 0.0051\n",
            "Epoch 4/10\n",
            "322/322 [==============================] - 25s 79ms/step - loss: 0.0029\n",
            "Epoch 5/10\n",
            "322/322 [==============================] - 25s 77ms/step - loss: 0.0017\n",
            "Epoch 6/10\n",
            "322/322 [==============================] - 25s 79ms/step - loss: 0.0016\n",
            "Epoch 7/10\n",
            "322/322 [==============================] - 25s 79ms/step - loss: 0.0011\n",
            "Epoch 8/10\n",
            "322/322 [==============================] - 25s 77ms/step - loss: 8.8670e-04\n",
            "Epoch 9/10\n",
            "322/322 [==============================] - 25s 77ms/step - loss: 7.2064e-04\n",
            "Epoch 10/10\n",
            "322/322 [==============================] - 25s 78ms/step - loss: 6.2254e-04\n"
          ]
        },
        {
          "output_type": "execute_result",
          "data": {
            "text/plain": [
              "[<matplotlib.lines.Line2D at 0x7fc05002b290>]"
            ]
          },
          "metadata": {},
          "execution_count": 30
        },
        {
          "output_type": "display_data",
          "data": {
            "text/plain": [
              "<Figure size 432x288 with 1 Axes>"
            ],
            "image/png": "[encoded data removed]"
          },
          "metadata": {
            "needs_background": "light"
          }
        }
      ]
    },
    {
      "cell_type": "code",
      "source": [
        "df_teste = pd.read_csv('test.csv')\n",
        "df_teste['data_hora'] = df_teste.loc[:,['Date', 'Time']].apply(lambda x: datetime.strptime(x['Date'] + ' ' + x['Time'], '%d/%m/%Y %H:%M'), axis=1)\n",
        "df_teste = df_teste.sort_values(by='data_hora')\n",
        "df_teste = df_teste.set_index('data_hora')\n",
        "idx = pd.date_range(start=df_teste.index.min(), end=df_teste.index.max(),  freq='0h15min')\n",
        "df_teste= df_teste.reindex(idx)\n",
        "#dfx = df_treino['Indoor_temperature_room'].resample('H').mean().iloc[1: , ]\n",
        "#df_teste = pd.DataFrame(dfx, columns = ['Indoor_temperature_room'])\n",
        "df_teste.fillna(method='ffill', inplace=True)\n"
      ],
      "metadata": {
        "id": "L6VKlZW-2Hcr"
      },
      "execution_count": 31,
      "outputs": []
    },
    {
      "cell_type": "code",
      "source": [
        "test_predictions = []\n",
        "first_eval_batch = scaled_all[-n_input:]\n",
        "current_batch = first_eval_batch.reshape((1, n_input, n_features))\n",
        "for i in range(df_teste.shape[0]):\n",
        "  current_pred = model.predict(current_batch)[0]\n",
        "  test_predictions.append(current_pred)\n",
        "  # atualize a rodada para agora incluir a previsão e descartar o primeiro valor\n",
        "  current_batch = np.append(current_batch[:,1:,:],[[current_pred]],axis=1)\n",
        "true_predictions = scaler.inverse_transform(test_predictions)"
      ],
      "metadata": {
        "id": "VBHbKlHD4vup"
      },
      "execution_count": 34,
      "outputs": []
    },
    {
      "cell_type": "code",
      "source": [
        "true_predictions\n"
      ],
      "metadata": {
        "id": "3nJatv7FIwsW",
        "outputId": "67c7af14-1317-4f9b-d694-5d6fb4b114e7",
        "colab": {
          "base_uri": "https://localhost:8080/"
        }
      },
      "execution_count": 35,
      "outputs": [
        {
          "output_type": "execute_result",
          "data": {
            "text/plain": [
              "array([[20.10559928],\n",
              "       [19.93840179],\n",
              "       [20.00811132],\n",
              "       ...,\n",
              "       [21.9406766 ],\n",
              "       [21.81437942],\n",
              "       [21.62786217]])"
            ]
          },
          "metadata": {},
          "execution_count": 35
        }
      ]
    },
    {
      "cell_type": "code",
      "source": [
        "df_teste['Indoor_temperature_room'] = true_predictions\n",
        "df_teste['Id'] = df_teste['Id'].astype('int')\n",
        "df_teste[['Id', 'Indoor_temperature_room']].to_csv('hederson_submition.csv', index=False)"
      ],
      "metadata": {
        "id": "CtWbObn2I3uZ"
      },
      "execution_count": 54,
      "outputs": []
    },
    {
      "cell_type": "code",
      "source": [
        "!head hederson_submition.csv\n",
        "#!head sample_submission.csv"
      ],
      "metadata": {
        "id": "xEWessj_Jl04",
        "outputId": "4f838100-1307-4ef2-802e-8eaa9b2c7673",
        "colab": {
          "base_uri": "https://localhost:8080/"
        }
      },
      "execution_count": 57,
      "outputs": [
        {
          "output_type": "stream",
          "name": "stdout",
          "text": [
            "Id,Indoor_temperature_room\n",
            "2764,20.105599281573298\n",
            "2765,19.938401785814765\n",
            "2766,20.008111318835617\n",
            "2767,20.397973429156842\n",
            "2768,21.07674685139507\n",
            "2769,21.94783526594788\n",
            "2770,22.857172124761345\n",
            "2771,23.592895444461703\n",
            "2772,24.011205334332587\n"
          ]
        }
      ]
    }
  ]
}